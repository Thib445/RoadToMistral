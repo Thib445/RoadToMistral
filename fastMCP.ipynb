{
 "cells": [
  {
   "cell_type": "code",
   "execution_count": 5,
   "id": "562383b1",
   "metadata": {},
   "outputs": [
    {
     "name": "stdout",
     "output_type": "stream",
     "text": [
      "/Users/elo/.pyenv/versions/3.13.5/envs/MistralEnv/bin/python\n"
     ]
    }
   ],
   "source": [
    "import sys\n",
    "print(sys.executable)"
   ]
  },
  {
   "cell_type": "code",
   "execution_count": 6,
   "id": "0ad3c107",
   "metadata": {},
   "outputs": [
    {
     "data": {
      "text/html": [
       "<pre style=\"white-space:pre;overflow-x:auto;line-height:normal;font-family:Menlo,'DejaVu Sans Mono',consolas,'Courier New',monospace\">\n",
       "\n",
       "<span style=\"color: #7f7f7f; text-decoration-color: #7f7f7f\">╭────────────────────────────────────────────────────────────────────────────╮</span>\n",
       "<span style=\"color: #7f7f7f; text-decoration-color: #7f7f7f\">│</span>                                                                            <span style=\"color: #7f7f7f; text-decoration-color: #7f7f7f\">│</span>\n",
       "<span style=\"color: #7f7f7f; text-decoration-color: #7f7f7f\">│</span>    <span style=\"color: #008000; text-decoration-color: #008000; font-weight: bold\">    _ __ ___  _____           __  __  _____________    ____    ____ </span>    <span style=\"color: #7f7f7f; text-decoration-color: #7f7f7f\">│</span>\n",
       "<span style=\"color: #7f7f7f; text-decoration-color: #7f7f7f\">│</span>    <span style=\"color: #008000; text-decoration-color: #008000; font-weight: bold\">   _ __ ___ .'____/___ ______/ /_/  |/  / ____/ __ \\  |___ \\  / __ \\</span>    <span style=\"color: #7f7f7f; text-decoration-color: #7f7f7f\">│</span>\n",
       "<span style=\"color: #7f7f7f; text-decoration-color: #7f7f7f\">│</span>    <span style=\"color: #008000; text-decoration-color: #008000; font-weight: bold\">  _ __ ___ / /_  / __ `/ ___/ __/ /|_/ / /   / /_/ /  ___/ / / / / /</span>    <span style=\"color: #7f7f7f; text-decoration-color: #7f7f7f\">│</span>\n",
       "<span style=\"color: #7f7f7f; text-decoration-color: #7f7f7f\">│</span>    <span style=\"color: #008000; text-decoration-color: #008000; font-weight: bold\"> _ __ ___ / __/ / /_/ (__  ) /_/ /  / / /___/ ____/  /  __/_/ /_/ / </span>    <span style=\"color: #7f7f7f; text-decoration-color: #7f7f7f\">│</span>\n",
       "<span style=\"color: #7f7f7f; text-decoration-color: #7f7f7f\">│</span>    <span style=\"color: #008000; text-decoration-color: #008000; font-weight: bold\">_ __ ___ /_/    \\____/____/\\__/_/  /_/\\____/_/      /_____(*)____/  </span>    <span style=\"color: #7f7f7f; text-decoration-color: #7f7f7f\">│</span>\n",
       "<span style=\"color: #7f7f7f; text-decoration-color: #7f7f7f\">│</span>                                                                            <span style=\"color: #7f7f7f; text-decoration-color: #7f7f7f\">│</span>\n",
       "<span style=\"color: #7f7f7f; text-decoration-color: #7f7f7f\">│</span>                                                                            <span style=\"color: #7f7f7f; text-decoration-color: #7f7f7f\">│</span>\n",
       "<span style=\"color: #7f7f7f; text-decoration-color: #7f7f7f\">│</span>                                <span style=\"color: #000080; text-decoration-color: #000080; font-weight: bold\">FastMCP  2.0</span>                                <span style=\"color: #7f7f7f; text-decoration-color: #7f7f7f\">│</span>\n",
       "<span style=\"color: #7f7f7f; text-decoration-color: #7f7f7f\">│</span>                                                                            <span style=\"color: #7f7f7f; text-decoration-color: #7f7f7f\">│</span>\n",
       "<span style=\"color: #7f7f7f; text-decoration-color: #7f7f7f\">│</span>                                                                            <span style=\"color: #7f7f7f; text-decoration-color: #7f7f7f\">│</span>\n",
       "<span style=\"color: #7f7f7f; text-decoration-color: #7f7f7f\">│</span>                 <span style=\"font-weight: bold\">🖥️  </span><span style=\"color: #008080; text-decoration-color: #008080\">Server name:     </span><span style=\"color: #7f7f7f; text-decoration-color: #7f7f7f\">Demo 🚀              </span>                  <span style=\"color: #7f7f7f; text-decoration-color: #7f7f7f\">│</span>\n",
       "<span style=\"color: #7f7f7f; text-decoration-color: #7f7f7f\">│</span>                 <span style=\"font-weight: bold\">📦 </span><span style=\"color: #008080; text-decoration-color: #008080\">Transport:       </span><span style=\"color: #7f7f7f; text-decoration-color: #7f7f7f\">STDIO                </span>                  <span style=\"color: #7f7f7f; text-decoration-color: #7f7f7f\">│</span>\n",
       "<span style=\"color: #7f7f7f; text-decoration-color: #7f7f7f\">│</span>                 <span style=\"font-weight: bold\">   </span><span style=\"color: #008080; text-decoration-color: #008080\">                 </span><span style=\"color: #7f7f7f; text-decoration-color: #7f7f7f\">                     </span>                  <span style=\"color: #7f7f7f; text-decoration-color: #7f7f7f\">│</span>\n",
       "<span style=\"color: #7f7f7f; text-decoration-color: #7f7f7f\">│</span>                 <span style=\"font-weight: bold\">🏎️  </span><span style=\"color: #008080; text-decoration-color: #008080\">FastMCP version: </span><span style=\"color: #dfdfdf; text-decoration-color: #dfdfdf\">2.12.3               </span>                  <span style=\"color: #7f7f7f; text-decoration-color: #7f7f7f\">│</span>\n",
       "<span style=\"color: #7f7f7f; text-decoration-color: #7f7f7f\">│</span>                 <span style=\"font-weight: bold\">🤝 </span><span style=\"color: #008080; text-decoration-color: #008080\">MCP SDK version: </span><span style=\"color: #dfdfdf; text-decoration-color: #dfdfdf\">1.14.0               </span>                  <span style=\"color: #7f7f7f; text-decoration-color: #7f7f7f\">│</span>\n",
       "<span style=\"color: #7f7f7f; text-decoration-color: #7f7f7f\">│</span>                 <span style=\"font-weight: bold\">   </span><span style=\"color: #008080; text-decoration-color: #008080\">                 </span><span style=\"color: #7f7f7f; text-decoration-color: #7f7f7f\">                     </span>                  <span style=\"color: #7f7f7f; text-decoration-color: #7f7f7f\">│</span>\n",
       "<span style=\"color: #7f7f7f; text-decoration-color: #7f7f7f\">│</span>                 <span style=\"font-weight: bold\">📚 </span><span style=\"color: #008080; text-decoration-color: #008080\">Docs:            </span><span style=\"color: #7f7f7f; text-decoration-color: #7f7f7f\">https://gofastmcp.com</span>                  <span style=\"color: #7f7f7f; text-decoration-color: #7f7f7f\">│</span>\n",
       "<span style=\"color: #7f7f7f; text-decoration-color: #7f7f7f\">│</span>                 <span style=\"font-weight: bold\">🚀 </span><span style=\"color: #008080; text-decoration-color: #008080\">Deploy:          </span><span style=\"color: #7f7f7f; text-decoration-color: #7f7f7f\">https://fastmcp.cloud</span>                  <span style=\"color: #7f7f7f; text-decoration-color: #7f7f7f\">│</span>\n",
       "<span style=\"color: #7f7f7f; text-decoration-color: #7f7f7f\">│</span>                                                                            <span style=\"color: #7f7f7f; text-decoration-color: #7f7f7f\">│</span>\n",
       "<span style=\"color: #7f7f7f; text-decoration-color: #7f7f7f\">╰────────────────────────────────────────────────────────────────────────────╯</span>\n",
       "\n",
       "\n",
       "</pre>\n"
      ],
      "text/plain": [
       "\n",
       "\n",
       "\u001b[2m╭────────────────────────────────────────────────────────────────────────────╮\u001b[0m\n",
       "\u001b[2m│\u001b[0m                                                                            \u001b[2m│\u001b[0m\n",
       "\u001b[2m│\u001b[0m    \u001b[1;32m    _ __ ___  _____           __  __  _____________    ____    ____ \u001b[0m    \u001b[2m│\u001b[0m\n",
       "\u001b[2m│\u001b[0m    \u001b[1;32m   _ __ ___ .'____/___ ______/ /_/  |/  / ____/ __ \\  |___ \\  / __ \\\u001b[0m    \u001b[2m│\u001b[0m\n",
       "\u001b[2m│\u001b[0m    \u001b[1;32m  _ __ ___ / /_  / __ `/ ___/ __/ /|_/ / /   / /_/ /  ___/ / / / / /\u001b[0m    \u001b[2m│\u001b[0m\n",
       "\u001b[2m│\u001b[0m    \u001b[1;32m _ __ ___ / __/ / /_/ (__  ) /_/ /  / / /___/ ____/  /  __/_/ /_/ / \u001b[0m    \u001b[2m│\u001b[0m\n",
       "\u001b[2m│\u001b[0m    \u001b[1;32m_ __ ___ /_/    \\____/____/\\__/_/  /_/\\____/_/      /_____(*)____/  \u001b[0m    \u001b[2m│\u001b[0m\n",
       "\u001b[2m│\u001b[0m                                                                            \u001b[2m│\u001b[0m\n",
       "\u001b[2m│\u001b[0m                                                                            \u001b[2m│\u001b[0m\n",
       "\u001b[2m│\u001b[0m                                \u001b[1;34mFastMCP  2.0\u001b[0m                                \u001b[2m│\u001b[0m\n",
       "\u001b[2m│\u001b[0m                                                                            \u001b[2m│\u001b[0m\n",
       "\u001b[2m│\u001b[0m                                                                            \u001b[2m│\u001b[0m\n",
       "\u001b[2m│\u001b[0m                 \u001b[1m🖥️ \u001b[0m\u001b[1m \u001b[0m\u001b[36mServer name:    \u001b[0m\u001b[36m \u001b[0m\u001b[2mDemo 🚀              \u001b[0m                  \u001b[2m│\u001b[0m\n",
       "\u001b[2m│\u001b[0m                 \u001b[1m📦\u001b[0m\u001b[1m \u001b[0m\u001b[36mTransport:      \u001b[0m\u001b[36m \u001b[0m\u001b[2mSTDIO                \u001b[0m                  \u001b[2m│\u001b[0m\n",
       "\u001b[2m│\u001b[0m                 \u001b[1m  \u001b[0m\u001b[1m \u001b[0m\u001b[36m                \u001b[0m\u001b[36m \u001b[0m\u001b[2m                     \u001b[0m                  \u001b[2m│\u001b[0m\n",
       "\u001b[2m│\u001b[0m                 \u001b[1m🏎️ \u001b[0m\u001b[1m \u001b[0m\u001b[36mFastMCP version:\u001b[0m\u001b[36m \u001b[0m\u001b[2;37m2.12.3               \u001b[0m                  \u001b[2m│\u001b[0m\n",
       "\u001b[2m│\u001b[0m                 \u001b[1m🤝\u001b[0m\u001b[1m \u001b[0m\u001b[36mMCP SDK version:\u001b[0m\u001b[36m \u001b[0m\u001b[2;37m1.14.0               \u001b[0m                  \u001b[2m│\u001b[0m\n",
       "\u001b[2m│\u001b[0m                 \u001b[1m  \u001b[0m\u001b[1m \u001b[0m\u001b[36m                \u001b[0m\u001b[36m \u001b[0m\u001b[2m                     \u001b[0m                  \u001b[2m│\u001b[0m\n",
       "\u001b[2m│\u001b[0m                 \u001b[1m📚\u001b[0m\u001b[1m \u001b[0m\u001b[36mDocs:           \u001b[0m\u001b[36m \u001b[0m\u001b[2mhttps://gofastmcp.com\u001b[0m                  \u001b[2m│\u001b[0m\n",
       "\u001b[2m│\u001b[0m                 \u001b[1m🚀\u001b[0m\u001b[1m \u001b[0m\u001b[36mDeploy:         \u001b[0m\u001b[36m \u001b[0m\u001b[2mhttps://fastmcp.cloud\u001b[0m                  \u001b[2m│\u001b[0m\n",
       "\u001b[2m│\u001b[0m                                                                            \u001b[2m│\u001b[0m\n",
       "\u001b[2m╰────────────────────────────────────────────────────────────────────────────╯\u001b[0m\n",
       "\n",
       "\n"
      ]
     },
     "metadata": {},
     "output_type": "display_data"
    },
    {
     "ename": "AttributeError",
     "evalue": "'OutStream' object has no attribute 'buffer'",
     "output_type": "error",
     "traceback": [
      "\u001b[31m---------------------------------------------------------------------------\u001b[39m",
      "\u001b[31mAttributeError\u001b[39m                            Traceback (most recent call last)",
      "\u001b[36mCell\u001b[39m\u001b[36m \u001b[39m\u001b[32mIn[6]\u001b[39m\u001b[32m, line 16\u001b[39m\n\u001b[32m     13\u001b[39m     \u001b[38;5;28;01mawait\u001b[39;00m mcp.run_async()\n\u001b[32m     15\u001b[39m \u001b[38;5;66;03m# Run the async function\u001b[39;00m\n\u001b[32m---> \u001b[39m\u001b[32m16\u001b[39m \u001b[38;5;28;01mawait\u001b[39;00m run_mcp()\n",
      "\u001b[36mCell\u001b[39m\u001b[36m \u001b[39m\u001b[32mIn[6]\u001b[39m\u001b[32m, line 13\u001b[39m, in \u001b[36mrun_mcp\u001b[39m\u001b[34m()\u001b[39m\n\u001b[32m     12\u001b[39m \u001b[38;5;28;01masync\u001b[39;00m \u001b[38;5;28;01mdef\u001b[39;00m\u001b[38;5;250m \u001b[39m\u001b[34mrun_mcp\u001b[39m():\n\u001b[32m---> \u001b[39m\u001b[32m13\u001b[39m     \u001b[38;5;28;01mawait\u001b[39;00m mcp.run_async()\n",
      "\u001b[36mFile \u001b[39m\u001b[32m~/.pyenv/versions/3.13.5/envs/MistralEnv/lib/python3.13/site-packages/fastmcp/server/server.py:353\u001b[39m, in \u001b[36mFastMCP.run_async\u001b[39m\u001b[34m(self, transport, show_banner, **transport_kwargs)\u001b[39m\n\u001b[32m    350\u001b[39m     \u001b[38;5;28;01mraise\u001b[39;00m \u001b[38;5;167;01mValueError\u001b[39;00m(\u001b[33mf\u001b[39m\u001b[33m\"\u001b[39m\u001b[33mUnknown transport: \u001b[39m\u001b[38;5;132;01m{\u001b[39;00mtransport\u001b[38;5;132;01m}\u001b[39;00m\u001b[33m\"\u001b[39m)\n\u001b[32m    352\u001b[39m \u001b[38;5;28;01mif\u001b[39;00m transport == \u001b[33m\"\u001b[39m\u001b[33mstdio\u001b[39m\u001b[33m\"\u001b[39m:\n\u001b[32m--> \u001b[39m\u001b[32m353\u001b[39m     \u001b[38;5;28;01mawait\u001b[39;00m \u001b[38;5;28mself\u001b[39m.run_stdio_async(\n\u001b[32m    354\u001b[39m         show_banner=show_banner,\n\u001b[32m    355\u001b[39m         **transport_kwargs,\n\u001b[32m    356\u001b[39m     )\n\u001b[32m    357\u001b[39m \u001b[38;5;28;01melif\u001b[39;00m transport \u001b[38;5;129;01min\u001b[39;00m {\u001b[33m\"\u001b[39m\u001b[33mhttp\u001b[39m\u001b[33m\"\u001b[39m, \u001b[33m\"\u001b[39m\u001b[33msse\u001b[39m\u001b[33m\"\u001b[39m, \u001b[33m\"\u001b[39m\u001b[33mstreamable-http\u001b[39m\u001b[33m\"\u001b[39m}:\n\u001b[32m    358\u001b[39m     \u001b[38;5;28;01mawait\u001b[39;00m \u001b[38;5;28mself\u001b[39m.run_http_async(\n\u001b[32m    359\u001b[39m         transport=transport,\n\u001b[32m    360\u001b[39m         show_banner=show_banner,\n\u001b[32m    361\u001b[39m         **transport_kwargs,\n\u001b[32m    362\u001b[39m     )\n",
      "\u001b[36mFile \u001b[39m\u001b[32m~/.pyenv/versions/3.13.5/envs/MistralEnv/lib/python3.13/site-packages/fastmcp/server/server.py:1494\u001b[39m, in \u001b[36mFastMCP.run_stdio_async\u001b[39m\u001b[34m(self, show_banner)\u001b[39m\n\u001b[32m   1488\u001b[39m \u001b[38;5;28;01mif\u001b[39;00m show_banner:\n\u001b[32m   1489\u001b[39m     log_server_banner(\n\u001b[32m   1490\u001b[39m         server=\u001b[38;5;28mself\u001b[39m,\n\u001b[32m   1491\u001b[39m         transport=\u001b[33m\"\u001b[39m\u001b[33mstdio\u001b[39m\u001b[33m\"\u001b[39m,\n\u001b[32m   1492\u001b[39m     )\n\u001b[32m-> \u001b[39m\u001b[32m1494\u001b[39m \u001b[38;5;28;01masync\u001b[39;00m \u001b[38;5;28;01mwith\u001b[39;00m stdio_server() \u001b[38;5;28;01mas\u001b[39;00m (read_stream, write_stream):\n\u001b[32m   1495\u001b[39m     logger.info(\u001b[33mf\u001b[39m\u001b[33m\"\u001b[39m\u001b[33mStarting MCP server \u001b[39m\u001b[38;5;132;01m{\u001b[39;00m\u001b[38;5;28mself\u001b[39m.name\u001b[38;5;132;01m!r}\u001b[39;00m\u001b[33m with transport \u001b[39m\u001b[33m'\u001b[39m\u001b[33mstdio\u001b[39m\u001b[33m'\u001b[39m\u001b[33m\"\u001b[39m)\n\u001b[32m   1496\u001b[39m     \u001b[38;5;28;01mawait\u001b[39;00m \u001b[38;5;28mself\u001b[39m._mcp_server.run(\n\u001b[32m   1497\u001b[39m         read_stream,\n\u001b[32m   1498\u001b[39m         write_stream,\n\u001b[32m   (...)\u001b[39m\u001b[32m   1501\u001b[39m         ),\n\u001b[32m   1502\u001b[39m     )\n",
      "\u001b[36mFile \u001b[39m\u001b[32m~/.pyenv/versions/3.13.5/lib/python3.13/contextlib.py:214\u001b[39m, in \u001b[36m_AsyncGeneratorContextManager.__aenter__\u001b[39m\u001b[34m(self)\u001b[39m\n\u001b[32m    212\u001b[39m \u001b[38;5;28;01mdel\u001b[39;00m \u001b[38;5;28mself\u001b[39m.args, \u001b[38;5;28mself\u001b[39m.kwds, \u001b[38;5;28mself\u001b[39m.func\n\u001b[32m    213\u001b[39m \u001b[38;5;28;01mtry\u001b[39;00m:\n\u001b[32m--> \u001b[39m\u001b[32m214\u001b[39m     \u001b[38;5;28;01mreturn\u001b[39;00m \u001b[38;5;28;01mawait\u001b[39;00m anext(\u001b[38;5;28mself\u001b[39m.gen)\n\u001b[32m    215\u001b[39m \u001b[38;5;28;01mexcept\u001b[39;00m \u001b[38;5;167;01mStopAsyncIteration\u001b[39;00m:\n\u001b[32m    216\u001b[39m     \u001b[38;5;28;01mraise\u001b[39;00m \u001b[38;5;167;01mRuntimeError\u001b[39;00m(\u001b[33m\"\u001b[39m\u001b[33mgenerator didn\u001b[39m\u001b[33m'\u001b[39m\u001b[33mt yield\u001b[39m\u001b[33m\"\u001b[39m) \u001b[38;5;28;01mfrom\u001b[39;00m\u001b[38;5;250m \u001b[39m\u001b[38;5;28;01mNone\u001b[39;00m\n",
      "\u001b[36mFile \u001b[39m\u001b[32m~/.pyenv/versions/3.13.5/envs/MistralEnv/lib/python3.13/site-packages/mcp/server/stdio.py:49\u001b[39m, in \u001b[36mstdio_server\u001b[39m\u001b[34m(stdin, stdout)\u001b[39m\n\u001b[32m     47\u001b[39m     stdin = anyio.wrap_file(TextIOWrapper(sys.stdin.buffer, encoding=\u001b[33m\"\u001b[39m\u001b[33mutf-8\u001b[39m\u001b[33m\"\u001b[39m))\n\u001b[32m     48\u001b[39m \u001b[38;5;28;01mif\u001b[39;00m \u001b[38;5;129;01mnot\u001b[39;00m stdout:\n\u001b[32m---> \u001b[39m\u001b[32m49\u001b[39m     stdout = anyio.wrap_file(TextIOWrapper(\u001b[43msys\u001b[49m\u001b[43m.\u001b[49m\u001b[43mstdout\u001b[49m\u001b[43m.\u001b[49m\u001b[43mbuffer\u001b[49m, encoding=\u001b[33m\"\u001b[39m\u001b[33mutf-8\u001b[39m\u001b[33m\"\u001b[39m))\n\u001b[32m     51\u001b[39m read_stream: MemoryObjectReceiveStream[SessionMessage | \u001b[38;5;167;01mException\u001b[39;00m]\n\u001b[32m     52\u001b[39m read_stream_writer: MemoryObjectSendStream[SessionMessage | \u001b[38;5;167;01mException\u001b[39;00m]\n",
      "\u001b[31mAttributeError\u001b[39m: 'OutStream' object has no attribute 'buffer'"
     ]
    }
   ],
   "source": [
    "from fastmcp import FastMCP\n",
    "import asyncio\n",
    "\n",
    "mcp = FastMCP(\"Demo 🚀\")\n",
    "\n",
    "@mcp.tool\n",
    "def add(a: int, b: int) -> int:\n",
    "    \"\"\"Add two numbers\"\"\"\n",
    "    return a + b\n",
    "\n",
    "# For Jupyter notebooks, use the async version\n",
    "async def run_mcp():\n",
    "    await mcp.run_async()\n",
    "\n",
    "# Run the async function\n",
    "await run_mcp()"
   ]
  }
 ],
 "metadata": {
  "kernelspec": {
   "display_name": "MistralEnv",
   "language": "python",
   "name": "python3"
  },
  "language_info": {
   "codemirror_mode": {
    "name": "ipython",
    "version": 3
   },
   "file_extension": ".py",
   "mimetype": "text/x-python",
   "name": "python",
   "nbconvert_exporter": "python",
   "pygments_lexer": "ipython3",
   "version": "3.13.5"
  }
 },
 "nbformat": 4,
 "nbformat_minor": 5
}
