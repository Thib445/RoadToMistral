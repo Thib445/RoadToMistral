{
 "cells": [
  {
   "cell_type": "code",
   "execution_count": 48,
   "id": "baa64d6b",
   "metadata": {},
   "outputs": [],
   "source": [
    "from spotify_infos import sp, me"
   ]
  },
  {
   "cell_type": "markdown",
   "id": "02079da8",
   "metadata": {},
   "source": [
    "Ajouter une playlist"
   ]
  },
  {
   "cell_type": "code",
   "execution_count": 49,
   "id": "023be4be",
   "metadata": {},
   "outputs": [
    {
     "name": "stdout",
     "output_type": "stream",
     "text": [
      "Playlist: https://open.spotify.com/playlist/6d3z6sHGUc9T2LgqOuqxwb\n"
     ]
    }
   ],
   "source": [
    "playlist = sp.user_playlist_create(\n",
    "    user=me[\"id\"],\n",
    "    name=\"Mood2Music - Demo\",\n",
    "    public=False,\n",
    "    description=\"Playlist generated during hackathon\"\n",
    ")\n",
    "print(\"Playlist:\", playlist[\"external_urls\"][\"spotify\"])"
   ]
  },
  {
   "cell_type": "code",
   "execution_count": 50,
   "id": "aa0b9a6e",
   "metadata": {},
   "outputs": [
    {
     "name": "stdout",
     "output_type": "stream",
     "text": [
      "6d3z6sHGUc9T2LgqOuqxwb\n"
     ]
    }
   ],
   "source": [
    "print(playlist[\"id\"])"
   ]
  },
  {
   "cell_type": "code",
   "execution_count": 51,
   "id": "66d85044",
   "metadata": {},
   "outputs": [
    {
     "name": "stdout",
     "output_type": "stream",
     "text": [
      "{'collaborative': False, 'description': 'Playlist generated during hackathon', 'external_urls': {'spotify': 'https://open.spotify.com/playlist/6d3z6sHGUc9T2LgqOuqxwb'}, 'followers': {'href': None, 'total': 0}, 'href': 'https://api.spotify.com/v1/playlists/6d3z6sHGUc9T2LgqOuqxwb', 'id': '6d3z6sHGUc9T2LgqOuqxwb', 'images': [], 'primary_color': None, 'name': 'Mood2Music - Demo', 'type': 'playlist', 'uri': 'spotify:playlist:6d3z6sHGUc9T2LgqOuqxwb', 'owner': {'href': 'https://api.spotify.com/v1/users/thibaultm2003', 'id': 'thibaultm2003', 'type': 'user', 'uri': 'spotify:user:thibaultm2003', 'display_name': None, 'external_urls': {'spotify': 'https://open.spotify.com/user/thibaultm2003'}}, 'public': False, 'snapshot_id': 'AAABgYYGOz0/tc/C1z/Ch8+6h+DqmXSL', 'tracks': {'limit': 100, 'next': None, 'offset': 0, 'previous': None, 'href': 'https://api.spotify.com/v1/playlists/6d3z6sHGUc9T2LgqOuqxwb/tracks', 'total': 0, 'items': []}}\n"
     ]
    }
   ],
   "source": [
    "print(playlist)"
   ]
  },
  {
   "cell_type": "code",
   "execution_count": 52,
   "id": "be66e4a6",
   "metadata": {},
   "outputs": [
    {
     "data": {
      "text/plain": [
       "{'snapshot_id': 'AAAAAi3SaRhlQxx0uwO7hH6axpgqeFQg'}"
      ]
     },
     "execution_count": 52,
     "metadata": {},
     "output_type": "execute_result"
    }
   ],
   "source": [
    "sp.playlist_add_items(playlist[\"id\"], [mhd_id])"
   ]
  },
  {
   "cell_type": "markdown",
   "id": "b61e1185",
   "metadata": {},
   "source": [
    "Ajouter un son à une playlist"
   ]
  },
  {
   "cell_type": "code",
   "execution_count": 53,
   "id": "a7ca7078",
   "metadata": {},
   "outputs": [
    {
     "name": "stdout",
     "output_type": "stream",
     "text": [
      "Added one track.\n"
     ]
    }
   ],
   "source": [
    "sp.playlist_add_items(playlist[\"id\"], [\"spotify:track:4uLU6hMCjMI75M1A2tKUQC\"])\n",
    "print(\"Added one track.\")"
   ]
  },
  {
   "cell_type": "code",
   "execution_count": 54,
   "id": "cbfc0e55",
   "metadata": {},
   "outputs": [],
   "source": [
    "# --- ajouter un titre précis à une playlist ---\n",
    "def findsongID(query : str, type = 'track'):\n",
    "    results = sp.search(q = query, limit=1, type = type)\n",
    "    song_id = results[type + 's']['items'][0]['id']\n",
    "    return song_id\n",
    "\n",
    "def findplaylistID(query : str, type = 'playlist'):\n",
    "    results = sp.current_user_playlists(limit=50)\n",
    "    for pl in results[\"items\"]:\n",
    "        if query.lower() in pl[\"name\"].lower():\n",
    "            return pl[\"id\"]\n",
    "        \n",
    "def add2playlist(query_song : str, query_playlist : str, type = 'track'):\n",
    "    song_id, playlist_id = findsongID(query_song), findplaylistID(query_playlist)\n",
    "    sp.playlist_add_items(playlist_id, [f\"spotify:track:{song_id}\"])\n",
    "    return (f\"I added {query_song} to your playlist {query_playlist} !\")"
   ]
  },
  {
   "cell_type": "code",
   "execution_count": 59,
   "id": "a7706605",
   "metadata": {},
   "outputs": [],
   "source": [
    "def _find_song_id(query: str, market: Optional[str] = None) -> Optional[str]:\n",
    "    res = sp.search(q=query, limit=1, type=\"track\", market=market)\n",
    "    items = res.get(\"tracks\", {}).get(\"items\", []) or []\n",
    "    return items[0][\"id\"] if items else None\n",
    "\n",
    "\n",
    "def _find_my_playlist_id(query: str) -> Optional[str]:\n",
    "    res = sp.current_user_playlists(limit=50)\n",
    "    for pl in res.get(\"items\", []):\n",
    "        name = (pl.get(\"name\") or \"\").lower()\n",
    "        if query.lower() in name and pl.get(\"owner\", {}).get(\"id\") == me[\"id\"]:\n",
    "            return pl[\"id\"]\n",
    "    return None\n",
    "\n",
    "def add2playlist(song_query: str, playlist_query: str, allow_duplicates: bool = True, market: Optional[str] = \"from_token\") -> Dict[str, Any]:\n",
    "    \"\"\"\n",
    "    Find best match for 'song_query' and add it to YOUR playlist whose name contains 'playlist_query'.\n",
    "    Scopes: playlist-read-private + playlist-modify-private (or public)\n",
    "    \"\"\"\n",
    "    song_id = _find_song_id(song_query, market=market)\n",
    "    if not song_id:\n",
    "        return {\"status\": \"not_found\", \"entity\": \"track\", \"query\": song_query}\n",
    "\n",
    "    playlist_id = _find_my_playlist_id(playlist_query)\n",
    "    if not playlist_id:\n",
    "        return {\"status\": \"not_found\", \"entity\": \"playlist\", \"query\": playlist_query}\n",
    "\n",
    "    track_uri = f\"spotify:track:{song_id}\"\n",
    "\n",
    "    if not allow_duplicates:\n",
    "        items = sp.playlist_items(playlist_id, limit=100).get(\"items\", [])\n",
    "        if any(track_uri == (it.get(\"track\") or {}).get(\"uri\") for it in items):\n",
    "            return {\"status\": \"skipped\", \"reason\": \"duplicate\", \"playlist_id\": playlist_id, \"track_uri\": track_uri}\n",
    "\n",
    "    sp.playlist_add_items(playlist_id, [track_uri])\n",
    "    pl = sp.playlist(playlist_id, fields=\"name,external_urls.spotify\")\n",
    "    return {\"status\": \"added\", \"playlist_id\": playlist_id, \"playlist_name\": pl[\"name\"], \"playlist_url\": pl[\"external_urls\"][\"spotify\"], \"track_uri\": track_uri}\n"
   ]
  },
  {
   "cell_type": "code",
   "execution_count": 63,
   "id": "a975fdaa",
   "metadata": {},
   "outputs": [],
   "source": [
    "def add2playlist(song_query: str, playlist_query: str, allow_duplicates: bool = True, market: Optional[str] = \"from_token\") -> Dict[str, Any]:\n",
    "    \"\"\"\n",
    "    Find best match for 'song_query' and add it to YOUR playlist whose name contains 'playlist_query'.\n",
    "    Scopes: playlist-read-private + playlist-modify-private (or public)\n",
    "    \"\"\"\n",
    "    def _find_song_id(query: str, market: Optional[str] = None) -> Optional[str]:\n",
    "        res = sp.search(q=query, limit=1, type=\"track\", market=market)\n",
    "        items = res.get(\"tracks\", {}).get(\"items\", []) or []\n",
    "        return items[0][\"id\"] if items else None\n",
    "\n",
    "\n",
    "    def _find_my_playlist_id(query: str) -> Optional[str]:\n",
    "        res = sp.current_user_playlists(limit=50)\n",
    "        for pl in res.get(\"items\", []):\n",
    "            name = (pl.get(\"name\") or \"\").lower()\n",
    "            if query.lower() in name and pl.get(\"owner\", {}).get(\"id\") == me[\"id\"]:\n",
    "                return pl[\"id\"]\n",
    "        return None\n",
    "    \n",
    "    \n",
    "    song_id = _find_song_id(song_query, market=market)\n",
    "    if not song_id:\n",
    "        return {\"status\": \"not_found\", \"entity\": \"track\", \"query\": song_query}\n",
    "\n",
    "    playlist_id = _find_my_playlist_id(playlist_query)\n",
    "    if not playlist_id:\n",
    "        return {\"status\": \"not_found\", \"entity\": \"playlist\", \"query\": playlist_query}\n",
    "\n",
    "    track_uri = f\"spotify:track:{song_id}\"\n",
    "\n",
    "    if not allow_duplicates:\n",
    "        items = sp.playlist_items(playlist_id, limit=100).get(\"items\", [])\n",
    "        if any(track_uri == (it.get(\"track\") or {}).get(\"uri\") for it in items):\n",
    "            return {\"status\": \"skipped\", \"reason\": \"duplicate\", \"playlist_id\": playlist_id, \"track_uri\": track_uri}\n",
    "\n",
    "    sp.playlist_add_items(playlist_id, [track_uri])\n",
    "    pl = sp.playlist(playlist_id, fields=\"name,external_urls.spotify\")\n",
    "    return {\"status\": \"added\", \"playlist_id\": playlist_id, \"playlist_name\": pl[\"name\"], \"playlist_url\": pl[\"external_urls\"][\"spotify\"], \"track_uri\": track_uri}\n",
    "\n"
   ]
  },
  {
   "cell_type": "code",
   "execution_count": 64,
   "id": "690dd706",
   "metadata": {},
   "outputs": [
    {
     "data": {
      "text/plain": [
       "{'status': 'added',\n",
       " 'playlist_id': '3ssN4qLkzvVsDeEnb9wpDZ',\n",
       " 'playlist_name': 'La putain de ta mère',\n",
       " 'playlist_url': 'https://open.spotify.com/playlist/3ssN4qLkzvVsDeEnb9wpDZ',\n",
       " 'track_uri': 'spotify:track:4CWcaGtaOyAqBDKIeZMUe0'}"
      ]
     },
     "execution_count": 64,
     "metadata": {},
     "output_type": "execute_result"
    }
   ],
   "source": [
    "add2playlist(\"moulaga\", \"La putain de ta mère\")"
   ]
  },
  {
   "cell_type": "code",
   "execution_count": 30,
   "id": "64fa4d86",
   "metadata": {},
   "outputs": [
    {
     "data": {
      "text/plain": [
       "'6wdI9sg2VdgjqSg0ozu9PK'"
      ]
     },
     "execution_count": 30,
     "metadata": {},
     "output_type": "execute_result"
    }
   ],
   "source": [
    "findsongID(\"afrotrap la puissance\")"
   ]
  },
  {
   "cell_type": "code",
   "execution_count": 31,
   "id": "ccf623c9",
   "metadata": {},
   "outputs": [
    {
     "data": {
      "text/plain": [
       "'6jjAbvUQC5RifW8CNAItTe'"
      ]
     },
     "execution_count": 31,
     "metadata": {},
     "output_type": "execute_result"
    }
   ],
   "source": [
    "findplaylistID(\"Afrotrap MHD\")"
   ]
  },
  {
   "cell_type": "code",
   "execution_count": 35,
   "id": "9970b0f2",
   "metadata": {},
   "outputs": [
    {
     "name": "stderr",
     "output_type": "stream",
     "text": [
      "HTTP Error for POST to https://api.spotify.com/v1/playlists/6jjAbvUQC5RifW8CNAItTe/tracks with Params: {'position': None} returned 403 due to Forbidden\n"
     ]
    },
    {
     "ename": "SpotifyException",
     "evalue": "http status: 403, code: -1 - https://api.spotify.com/v1/playlists/6jjAbvUQC5RifW8CNAItTe/tracks:\n Forbidden, reason: None",
     "output_type": "error",
     "traceback": [
      "\u001b[31m---------------------------------------------------------------------------\u001b[39m",
      "\u001b[31mHTTPError\u001b[39m                                 Traceback (most recent call last)",
      "\u001b[36mFile \u001b[39m\u001b[32m~/Documents/Projects/RoadToMistral/.venv/lib/python3.13/site-packages/spotipy/client.py:274\u001b[39m, in \u001b[36mSpotify._internal_call\u001b[39m\u001b[34m(self, method, url, payload, params)\u001b[39m\n\u001b[32m    269\u001b[39m response = \u001b[38;5;28mself\u001b[39m._session.request(\n\u001b[32m    270\u001b[39m     method, url, headers=headers, proxies=\u001b[38;5;28mself\u001b[39m.proxies,\n\u001b[32m    271\u001b[39m     timeout=\u001b[38;5;28mself\u001b[39m.requests_timeout, **args\n\u001b[32m    272\u001b[39m )\n\u001b[32m--> \u001b[39m\u001b[32m274\u001b[39m \u001b[43mresponse\u001b[49m\u001b[43m.\u001b[49m\u001b[43mraise_for_status\u001b[49m\u001b[43m(\u001b[49m\u001b[43m)\u001b[49m\n\u001b[32m    275\u001b[39m results = response.json()\n",
      "\u001b[36mFile \u001b[39m\u001b[32m~/Documents/Projects/RoadToMistral/.venv/lib/python3.13/site-packages/requests/models.py:1026\u001b[39m, in \u001b[36mResponse.raise_for_status\u001b[39m\u001b[34m(self)\u001b[39m\n\u001b[32m   1025\u001b[39m \u001b[38;5;28;01mif\u001b[39;00m http_error_msg:\n\u001b[32m-> \u001b[39m\u001b[32m1026\u001b[39m     \u001b[38;5;28;01mraise\u001b[39;00m HTTPError(http_error_msg, response=\u001b[38;5;28mself\u001b[39m)\n",
      "\u001b[31mHTTPError\u001b[39m: 403 Client Error: Forbidden for url: https://api.spotify.com/v1/playlists/6jjAbvUQC5RifW8CNAItTe/tracks",
      "\nDuring handling of the above exception, another exception occurred:\n",
      "\u001b[31mSpotifyException\u001b[39m                          Traceback (most recent call last)",
      "\u001b[36mCell\u001b[39m\u001b[36m \u001b[39m\u001b[32mIn[35]\u001b[39m\u001b[32m, line 1\u001b[39m\n\u001b[32m----> \u001b[39m\u001b[32m1\u001b[39m \u001b[43msp\u001b[49m\u001b[43m.\u001b[49m\u001b[43mplaylist_add_items\u001b[49m\u001b[43m(\u001b[49m\u001b[33;43m\"\u001b[39;49m\u001b[33;43m6jjAbvUQC5RifW8CNAItTe\u001b[39;49m\u001b[33;43m\"\u001b[39;49m\u001b[43m,\u001b[49m\u001b[43m \u001b[49m\u001b[43m[\u001b[49m\u001b[33;43m\"\u001b[39;49m\u001b[33;43mspotify:track:6wdI9sg2VdgjqSg0ozu9PK\u001b[39;49m\u001b[33;43m\"\u001b[39;49m\u001b[43m]\u001b[49m\u001b[43m)\u001b[49m\n",
      "\u001b[36mFile \u001b[39m\u001b[32m~/Documents/Projects/RoadToMistral/.venv/lib/python3.13/site-packages/spotipy/client.py:1119\u001b[39m, in \u001b[36mSpotify.playlist_add_items\u001b[39m\u001b[34m(self, playlist_id, items, position)\u001b[39m\n\u001b[32m   1117\u001b[39m plid = \u001b[38;5;28mself\u001b[39m._get_id(\u001b[33m\"\u001b[39m\u001b[33mplaylist\u001b[39m\u001b[33m\"\u001b[39m, playlist_id)\n\u001b[32m   1118\u001b[39m ftracks = [\u001b[38;5;28mself\u001b[39m._get_uri(\u001b[33m\"\u001b[39m\u001b[33mtrack\u001b[39m\u001b[33m\"\u001b[39m, tid) \u001b[38;5;28;01mfor\u001b[39;00m tid \u001b[38;5;129;01min\u001b[39;00m items]\n\u001b[32m-> \u001b[39m\u001b[32m1119\u001b[39m \u001b[38;5;28;01mreturn\u001b[39;00m \u001b[38;5;28;43mself\u001b[39;49m\u001b[43m.\u001b[49m\u001b[43m_post\u001b[49m\u001b[43m(\u001b[49m\n\u001b[32m   1120\u001b[39m \u001b[43m    \u001b[49m\u001b[33;43mf\u001b[39;49m\u001b[33;43m\"\u001b[39;49m\u001b[33;43mplaylists/\u001b[39;49m\u001b[38;5;132;43;01m{\u001b[39;49;00m\u001b[43mplid\u001b[49m\u001b[38;5;132;43;01m}\u001b[39;49;00m\u001b[33;43m/tracks\u001b[39;49m\u001b[33;43m\"\u001b[39;49m\u001b[43m,\u001b[49m\n\u001b[32m   1121\u001b[39m \u001b[43m    \u001b[49m\u001b[43mpayload\u001b[49m\u001b[43m=\u001b[49m\u001b[43mftracks\u001b[49m\u001b[43m,\u001b[49m\n\u001b[32m   1122\u001b[39m \u001b[43m    \u001b[49m\u001b[43mposition\u001b[49m\u001b[43m=\u001b[49m\u001b[43mposition\u001b[49m\u001b[43m,\u001b[49m\n\u001b[32m   1123\u001b[39m \u001b[43m\u001b[49m\u001b[43m)\u001b[49m\n",
      "\u001b[36mFile \u001b[39m\u001b[32m~/Documents/Projects/RoadToMistral/.venv/lib/python3.13/site-packages/spotipy/client.py:329\u001b[39m, in \u001b[36mSpotify._post\u001b[39m\u001b[34m(self, url, args, payload, **kwargs)\u001b[39m\n\u001b[32m    327\u001b[39m \u001b[38;5;28;01mif\u001b[39;00m args:\n\u001b[32m    328\u001b[39m     kwargs.update(args)\n\u001b[32m--> \u001b[39m\u001b[32m329\u001b[39m \u001b[38;5;28;01mreturn\u001b[39;00m \u001b[38;5;28;43mself\u001b[39;49m\u001b[43m.\u001b[49m\u001b[43m_internal_call\u001b[49m\u001b[43m(\u001b[49m\u001b[33;43m\"\u001b[39;49m\u001b[33;43mPOST\u001b[39;49m\u001b[33;43m\"\u001b[39;49m\u001b[43m,\u001b[49m\u001b[43m \u001b[49m\u001b[43murl\u001b[49m\u001b[43m,\u001b[49m\u001b[43m \u001b[49m\u001b[43mpayload\u001b[49m\u001b[43m,\u001b[49m\u001b[43m \u001b[49m\u001b[43mkwargs\u001b[49m\u001b[43m)\u001b[49m\n",
      "\u001b[36mFile \u001b[39m\u001b[32m~/Documents/Projects/RoadToMistral/.venv/lib/python3.13/site-packages/spotipy/client.py:294\u001b[39m, in \u001b[36mSpotify._internal_call\u001b[39m\u001b[34m(self, method, url, payload, params)\u001b[39m\n\u001b[32m    289\u001b[39m         reason = \u001b[38;5;28;01mNone\u001b[39;00m\n\u001b[32m    291\u001b[39m     logger.error(\u001b[33mf\u001b[39m\u001b[33m\"\u001b[39m\u001b[33mHTTP Error for \u001b[39m\u001b[38;5;132;01m{\u001b[39;00mmethod\u001b[38;5;132;01m}\u001b[39;00m\u001b[33m to \u001b[39m\u001b[38;5;132;01m{\u001b[39;00murl\u001b[38;5;132;01m}\u001b[39;00m\u001b[33m with Params: \u001b[39m\u001b[33m\"\u001b[39m\n\u001b[32m    292\u001b[39m                  \u001b[33mf\u001b[39m\u001b[33m\"\u001b[39m\u001b[38;5;132;01m{\u001b[39;00margs.get(\u001b[33m'\u001b[39m\u001b[33mparams\u001b[39m\u001b[33m'\u001b[39m)\u001b[38;5;132;01m}\u001b[39;00m\u001b[33m returned \u001b[39m\u001b[38;5;132;01m{\u001b[39;00mresponse.status_code\u001b[38;5;132;01m}\u001b[39;00m\u001b[33m due to \u001b[39m\u001b[38;5;132;01m{\u001b[39;00mmsg\u001b[38;5;132;01m}\u001b[39;00m\u001b[33m\"\u001b[39m)\n\u001b[32m--> \u001b[39m\u001b[32m294\u001b[39m     \u001b[38;5;28;01mraise\u001b[39;00m SpotifyException(\n\u001b[32m    295\u001b[39m         response.status_code,\n\u001b[32m    296\u001b[39m         -\u001b[32m1\u001b[39m,\n\u001b[32m    297\u001b[39m         \u001b[33mf\u001b[39m\u001b[33m\"\u001b[39m\u001b[38;5;132;01m{\u001b[39;00mresponse.url\u001b[38;5;132;01m}\u001b[39;00m\u001b[33m:\u001b[39m\u001b[38;5;130;01m\\n\u001b[39;00m\u001b[33m \u001b[39m\u001b[38;5;132;01m{\u001b[39;00mmsg\u001b[38;5;132;01m}\u001b[39;00m\u001b[33m\"\u001b[39m,\n\u001b[32m    298\u001b[39m         reason=reason,\n\u001b[32m    299\u001b[39m         headers=response.headers,\n\u001b[32m    300\u001b[39m     )\n\u001b[32m    301\u001b[39m \u001b[38;5;28;01mexcept\u001b[39;00m requests.exceptions.RetryError \u001b[38;5;28;01mas\u001b[39;00m retry_error:\n\u001b[32m    302\u001b[39m     request = retry_error.request\n",
      "\u001b[31mSpotifyException\u001b[39m: http status: 403, code: -1 - https://api.spotify.com/v1/playlists/6jjAbvUQC5RifW8CNAItTe/tracks:\n Forbidden, reason: None"
     ]
    }
   ],
   "source": [
    "sp.playlist_add_items(\"6jjAbvUQC5RifW8CNAItTe\", [\"spotify:track:6wdI9sg2VdgjqSg0ozu9PK\"])"
   ]
  },
  {
   "cell_type": "markdown",
   "id": "43d59b0b",
   "metadata": {},
   "source": [
    "Trouver son"
   ]
  },
  {
   "cell_type": "code",
   "execution_count": 19,
   "id": "9b109b45",
   "metadata": {},
   "outputs": [],
   "source": [
    "from requests import Session\n",
    "from requests.adapters import HTTPAdapter\n",
    "from urllib3.util.retry import Retry"
   ]
  },
  {
   "cell_type": "code",
   "execution_count": 21,
   "id": "6738d15f",
   "metadata": {},
   "outputs": [],
   "source": [
    "def search_id(query : str, playlist_name : str, type = 'track'):\n",
    "    results = sp.search(q = query, limit=1, type = type)\n",
    "    id = results[type + 's']['items'][0]['id']\n",
    "    return id\n"
   ]
  },
  {
   "cell_type": "code",
   "execution_count": 26,
   "id": "1f4fdc2f",
   "metadata": {},
   "outputs": [
    {
     "name": "stdout",
     "output_type": "stream",
     "text": [
      "6wdI9sg2VdgjqSg0ozu9PK\n"
     ]
    }
   ],
   "source": [
    "print(search_id(\"mhd afro trap\", \"mhd\"))\n",
    "\n",
    "mhd_id = search_id(\"mhd afro trap\", \"mhd\")"
   ]
  },
  {
   "cell_type": "code",
   "execution_count": 66,
   "id": "fb0a58f1",
   "metadata": {},
   "outputs": [],
   "source": [
    "from flask import Flask\n",
    "import time\n",
    "\n",
    "app = Flask(__name__)\n",
    "\n",
    "@app.route(\"/health\")\n",
    "def health():\n",
    "    return {\"status\": \"ok\", \"time\": time.strftime(\"%Y-%m-%d %H:%M:%S\")}\n"
   ]
  },
  {
   "cell_type": "code",
   "execution_count": 80,
   "id": "81195be6",
   "metadata": {},
   "outputs": [
    {
     "name": "stdout",
     "output_type": "stream",
     "text": [
      "Track: Impardonnable by Damso\n",
      "Preview URL: None\n",
      "No preview available for this track.\n"
     ]
    }
   ],
   "source": [
    "results = sp.search(q=\"nous sommes les patates serene soundscapes\", type=\"track\", limit=1)\n",
    "track = results[\"tracks\"][\"items\"][0]\n",
    "\n",
    "print(\"Track:\", track[\"name\"], \"by\", track[\"artists\"][0][\"name\"])\n",
    "print(\"Preview URL:\", track[\"preview_url\"])\n",
    "\n",
    "# Télécharger la preview si dispo\n",
    "url = track[\"preview_url\"]\n",
    "if url:\n",
    "    r = requests.get(url)\n",
    "    with open(\"preview.mp3\", \"wb\") as f:\n",
    "        f.write(r.content)\n",
    "    print(\"Preview saved as preview.mp3\")\n",
    "else:\n",
    "    print(\"No preview available for this track.\")"
   ]
  },
  {
   "cell_type": "code",
   "execution_count": 69,
   "id": "960c60f1",
   "metadata": {},
   "outputs": [
    {
     "ename": "FileNotFoundError",
     "evalue": "[Errno 2] No such file or directory: 'preview.mp3'",
     "output_type": "error",
     "traceback": [
      "\u001b[31m---------------------------------------------------------------------------\u001b[39m",
      "\u001b[31mFileNotFoundError\u001b[39m                         Traceback (most recent call last)",
      "\u001b[36mCell\u001b[39m\u001b[36m \u001b[39m\u001b[32mIn[69]\u001b[39m\u001b[32m, line 3\u001b[39m\n\u001b[32m      1\u001b[39m \u001b[38;5;28;01mfrom\u001b[39;00m\u001b[38;5;250m \u001b[39m\u001b[34;01mpydub\u001b[39;00m\u001b[38;5;250m \u001b[39m\u001b[38;5;28;01mimport\u001b[39;00m AudioSegment\n\u001b[32m----> \u001b[39m\u001b[32m3\u001b[39m audio = \u001b[43mAudioSegment\u001b[49m\u001b[43m.\u001b[49m\u001b[43mfrom_file\u001b[49m\u001b[43m(\u001b[49m\u001b[33;43m\"\u001b[39;49m\u001b[33;43mpreview.mp3\u001b[39;49m\u001b[33;43m\"\u001b[39;49m\u001b[43m)\u001b[49m\n\u001b[32m      4\u001b[39m faster = audio.speedup(playback_speed=\u001b[32m1.25\u001b[39m)\n\u001b[32m      5\u001b[39m faster.export(\u001b[33m\"\u001b[39m\u001b[33mpreview_faster.mp3\u001b[39m\u001b[33m\"\u001b[39m, \u001b[38;5;28mformat\u001b[39m=\u001b[33m\"\u001b[39m\u001b[33mmp3\u001b[39m\u001b[33m\"\u001b[39m)\n",
      "\u001b[36mFile \u001b[39m\u001b[32m~/Documents/Projects/RoadToMistral/.venv/lib/python3.13/site-packages/pydub/audio_segment.py:651\u001b[39m, in \u001b[36mAudioSegment.from_file\u001b[39m\u001b[34m(cls, file, format, codec, parameters, start_second, duration, **kwargs)\u001b[39m\n\u001b[32m    649\u001b[39m \u001b[38;5;28;01mexcept\u001b[39;00m \u001b[38;5;167;01mTypeError\u001b[39;00m:\n\u001b[32m    650\u001b[39m     filename = \u001b[38;5;28;01mNone\u001b[39;00m\n\u001b[32m--> \u001b[39m\u001b[32m651\u001b[39m file, close_file = \u001b[43m_fd_or_path_or_tempfile\u001b[49m\u001b[43m(\u001b[49m\u001b[43mfile\u001b[49m\u001b[43m,\u001b[49m\u001b[43m \u001b[49m\u001b[33;43m'\u001b[39;49m\u001b[33;43mrb\u001b[39;49m\u001b[33;43m'\u001b[39;49m\u001b[43m,\u001b[49m\u001b[43m \u001b[49m\u001b[43mtempfile\u001b[49m\u001b[43m=\u001b[49m\u001b[38;5;28;43;01mFalse\u001b[39;49;00m\u001b[43m)\u001b[49m\n\u001b[32m    653\u001b[39m \u001b[38;5;28;01mif\u001b[39;00m \u001b[38;5;28mformat\u001b[39m:\n\u001b[32m    654\u001b[39m     \u001b[38;5;28mformat\u001b[39m = \u001b[38;5;28mformat\u001b[39m.lower()\n",
      "\u001b[36mFile \u001b[39m\u001b[32m~/Documents/Projects/RoadToMistral/.venv/lib/python3.13/site-packages/pydub/utils.py:60\u001b[39m, in \u001b[36m_fd_or_path_or_tempfile\u001b[39m\u001b[34m(fd, mode, tempfile)\u001b[39m\n\u001b[32m     57\u001b[39m     close_fd = \u001b[38;5;28;01mTrue\u001b[39;00m\n\u001b[32m     59\u001b[39m \u001b[38;5;28;01mif\u001b[39;00m \u001b[38;5;28misinstance\u001b[39m(fd, basestring):\n\u001b[32m---> \u001b[39m\u001b[32m60\u001b[39m     fd = \u001b[38;5;28;43mopen\u001b[39;49m\u001b[43m(\u001b[49m\u001b[43mfd\u001b[49m\u001b[43m,\u001b[49m\u001b[43m \u001b[49m\u001b[43mmode\u001b[49m\u001b[43m=\u001b[49m\u001b[43mmode\u001b[49m\u001b[43m)\u001b[49m\n\u001b[32m     61\u001b[39m     close_fd = \u001b[38;5;28;01mTrue\u001b[39;00m\n\u001b[32m     63\u001b[39m \u001b[38;5;28;01mtry\u001b[39;00m:\n",
      "\u001b[31mFileNotFoundError\u001b[39m: [Errno 2] No such file or directory: 'preview.mp3'"
     ]
    }
   ],
   "source": [
    "from pydub import AudioSegment\n",
    "\n",
    "audio = AudioSegment.from_file(\"preview.mp3\")\n",
    "faster = audio.speedup(playback_speed=1.25)\n",
    "faster.export(\"preview_faster.mp3\", format=\"mp3\")\n",
    "\n"
   ]
  },
  {
   "cell_type": "code",
   "execution_count": null,
   "id": "9da32841",
   "metadata": {},
   "outputs": [],
   "source": []
  },
  {
   "cell_type": "code",
   "execution_count": null,
   "id": "0a048c0a",
   "metadata": {},
   "outputs": [
    {
     "name": "stdout",
     "output_type": "stream",
     "text": [
      "Track: Impardonnable by Damso\n",
      "Preview URL: None\n",
      "No preview available for this track.\n"
     ]
    }
   ],
   "source": [
    "results = sp.search(q=\"nous sommes les patates serene soundscapes\", type=\"track\", limit=1)\n",
    "track = results[\"tracks\"][\"items\"][0]\n",
    "\n",
    "print(\"Track:\", track[\"name\"], \"by\", track[\"artists\"][0][\"name\"])\n",
    "print(\"Preview URL:\", track[\"preview_url\"])\n",
    "\n",
    "# Télécharger la preview si dispo\n",
    "url = track[\"preview_url\"]\n",
    "if url:\n",
    "    r = requests.get(url)\n",
    "    with open(\"preview.mp3\", \"wb\") as f:\n",
    "        f.write(r.content)\n",
    "    print(\"Preview saved as preview.mp3\")\n",
    "else:\n",
    "    print(\"No preview available for this track.\")"
   ]
  },
  {
   "cell_type": "code",
   "execution_count": 82,
   "id": "213e6c8c",
   "metadata": {},
   "outputs": [
    {
     "name": "stdout",
     "output_type": "stream",
     "text": [
      "Loading model…\n"
     ]
    },
    {
     "name": "stderr",
     "output_type": "stream",
     "text": [
      "Fetching 1 files: 100%|██████████| 1/1 [00:00<00:00, 8050.49it/s]\n",
      "Fetching 1 files: 100%|██████████| 1/1 [00:00<00:00, 4809.98it/s]\n"
     ]
    },
    {
     "name": "stdout",
     "output_type": "stream",
     "text": [
      "Saved: musicgen_demo.wav  |  sr=32000 Hz  |  seconds ~ 10.2\n"
     ]
    }
   ],
   "source": [
    "# test_musicgen.py\n",
    "from transformers import AutoProcessor, MusicgenForConditionalGeneration\n",
    "import soundfile as sf\n",
    "import torch\n",
    "\n",
    "# 1) Charge le modèle \"small\" (plus léger)\n",
    "MODEL_ID = \"facebook/musicgen-small\"\n",
    "\n",
    "print(\"Loading model…\")\n",
    "processor = AutoProcessor.from_pretrained(MODEL_ID)\n",
    "model = MusicgenForConditionalGeneration.from_pretrained(MODEL_ID)\n",
    "model.eval()\n",
    "model.to(\"cpu\")  # laisse en CPU pour un test simple\n",
    "\n",
    "# 2) Ton prompt (décris le style que tu veux)\n",
    "prompt = \"a hardcore LA rap music with police sirens and laughs\"\n",
    "\n",
    "# 3) Prépare les entrées\n",
    "inputs = processor(\n",
    "    text=[prompt],\n",
    "    padding=True,\n",
    "    return_tensors=\"pt\"\n",
    ")\n",
    "\n",
    "# 4) Génère ~8 à 10 secondes de son\n",
    "#    max_new_tokens ~ durée (grossière). 256 ≈ 5s, 512 ≈ 10s (approximatif).\n",
    "with torch.inference_mode():\n",
    "    audio_values = model.generate(\n",
    "        **inputs,\n",
    "        do_sample=True,\n",
    "        guidance_scale=3.0,      # un peu de “contrainte” sur le prompt\n",
    "        max_new_tokens=512       # ↑ pour + long (512 ~ ~10s)\n",
    "    )\n",
    "\n",
    "# 5) Sauvegarde en WAV\n",
    "#    audio_values shape: (batch, channels, samples)\n",
    "wav = audio_values[0, 0].cpu().numpy()\n",
    "sr = model.config.audio_encoder.sampling_rate  # ex: 32000 Hz\n",
    "out_path = \"musicgen_demo.wav\"\n",
    "sf.write(out_path, wav, sr)\n",
    "print(f\"Saved: {out_path}  |  sr={sr} Hz  |  seconds ~ {len(wav)/sr:.1f}\")\n"
   ]
  },
  {
   "cell_type": "code",
   "execution_count": null,
   "id": "c3684ea2",
   "metadata": {},
   "outputs": [],
   "source": [
    "import base64\n",
    "\n",
    "with open(\"musicgen_demo.wav\", \"wb\") as f:\n",
    "    f.write(base64.b64decode(response[\"data_base64\"]))"
   ]
  },
  {
   "cell_type": "code",
   "execution_count": 87,
   "id": "c80a1064",
   "metadata": {},
   "outputs": [
    {
     "ename": "DefaultCredentialsError",
     "evalue": "Your default credentials were not found. To set up Application Default Credentials, see https://cloud.google.com/docs/authentication/external/set-up-adc for more information.",
     "output_type": "error",
     "traceback": [
      "\u001b[31m---------------------------------------------------------------------------\u001b[39m",
      "\u001b[31mDefaultCredentialsError\u001b[39m                   Traceback (most recent call last)",
      "\u001b[36mCell\u001b[39m\u001b[36m \u001b[39m\u001b[32mIn[87]\u001b[39m\u001b[32m, line 3\u001b[39m\n\u001b[32m      1\u001b[39m \u001b[38;5;28;01mfrom\u001b[39;00m\u001b[38;5;250m \u001b[39m\u001b[34;01mgoogle\u001b[39;00m\u001b[34;01m.\u001b[39;00m\u001b[34;01mcloud\u001b[39;00m\u001b[38;5;250m \u001b[39m\u001b[38;5;28;01mimport\u001b[39;00m storage\n\u001b[32m----> \u001b[39m\u001b[32m3\u001b[39m client = \u001b[43mstorage\u001b[49m\u001b[43m.\u001b[49m\u001b[43mClient\u001b[49m\u001b[43m(\u001b[49m\u001b[43m)\u001b[49m\n\u001b[32m      5\u001b[39m buckets = client.list_buckets()\n\u001b[32m      6\u001b[39m \u001b[38;5;28;01mfor\u001b[39;00m bucket \u001b[38;5;129;01min\u001b[39;00m buckets:\n",
      "\u001b[36mFile \u001b[39m\u001b[32m~/Documents/Projects/RoadToMistral/.venv/lib/python3.13/site-packages/google/cloud/storage/client.py:247\u001b[39m, in \u001b[36mClient.__init__\u001b[39m\u001b[34m(self, project, credentials, _http, client_info, client_options, use_auth_w_custom_endpoint, extra_headers, api_key)\u001b[39m\n\u001b[32m    244\u001b[39m             no_project = \u001b[38;5;28;01mTrue\u001b[39;00m\n\u001b[32m    245\u001b[39m             project = \u001b[33m\"\u001b[39m\u001b[33m<none>\u001b[39m\u001b[33m\"\u001b[39m\n\u001b[32m--> \u001b[39m\u001b[32m247\u001b[39m \u001b[38;5;28;43msuper\u001b[39;49m\u001b[43m(\u001b[49m\u001b[43mClient\u001b[49m\u001b[43m,\u001b[49m\u001b[43m \u001b[49m\u001b[38;5;28;43mself\u001b[39;49m\u001b[43m)\u001b[49m\u001b[43m.\u001b[49m\u001b[34;43m__init__\u001b[39;49m\u001b[43m(\u001b[49m\n\u001b[32m    248\u001b[39m \u001b[43m    \u001b[49m\u001b[43mproject\u001b[49m\u001b[43m=\u001b[49m\u001b[43mproject\u001b[49m\u001b[43m,\u001b[49m\n\u001b[32m    249\u001b[39m \u001b[43m    \u001b[49m\u001b[43mcredentials\u001b[49m\u001b[43m=\u001b[49m\u001b[43mcredentials\u001b[49m\u001b[43m,\u001b[49m\n\u001b[32m    250\u001b[39m \u001b[43m    \u001b[49m\u001b[43mclient_options\u001b[49m\u001b[43m=\u001b[49m\u001b[43mclient_options\u001b[49m\u001b[43m,\u001b[49m\n\u001b[32m    251\u001b[39m \u001b[43m    \u001b[49m\u001b[43m_http\u001b[49m\u001b[43m=\u001b[49m\u001b[43m_http\u001b[49m\u001b[43m,\u001b[49m\n\u001b[32m    252\u001b[39m \u001b[43m\u001b[49m\u001b[43m)\u001b[49m\n\u001b[32m    254\u001b[39m \u001b[38;5;66;03m# Validate that the universe domain of the credentials matches the\u001b[39;00m\n\u001b[32m    255\u001b[39m \u001b[38;5;66;03m# universe domain of the client.\u001b[39;00m\n\u001b[32m    256\u001b[39m \u001b[38;5;28;01mif\u001b[39;00m \u001b[38;5;28mself\u001b[39m._credentials.universe_domain != \u001b[38;5;28mself\u001b[39m.universe_domain:\n",
      "\u001b[36mFile \u001b[39m\u001b[32m~/Documents/Projects/RoadToMistral/.venv/lib/python3.13/site-packages/google/cloud/client/__init__.py:338\u001b[39m, in \u001b[36mClientWithProject.__init__\u001b[39m\u001b[34m(self, project, credentials, client_options, _http)\u001b[39m\n\u001b[32m    337\u001b[39m \u001b[38;5;28;01mdef\u001b[39;00m\u001b[38;5;250m \u001b[39m\u001b[34m__init__\u001b[39m(\u001b[38;5;28mself\u001b[39m, project=\u001b[38;5;28;01mNone\u001b[39;00m, credentials=\u001b[38;5;28;01mNone\u001b[39;00m, client_options=\u001b[38;5;28;01mNone\u001b[39;00m, _http=\u001b[38;5;28;01mNone\u001b[39;00m):\n\u001b[32m--> \u001b[39m\u001b[32m338\u001b[39m     \u001b[43m_ClientProjectMixin\u001b[49m\u001b[43m.\u001b[49m\u001b[34;43m__init__\u001b[39;49m\u001b[43m(\u001b[49m\u001b[38;5;28;43mself\u001b[39;49m\u001b[43m,\u001b[49m\u001b[43m \u001b[49m\u001b[43mproject\u001b[49m\u001b[43m=\u001b[49m\u001b[43mproject\u001b[49m\u001b[43m,\u001b[49m\u001b[43m \u001b[49m\u001b[43mcredentials\u001b[49m\u001b[43m=\u001b[49m\u001b[43mcredentials\u001b[49m\u001b[43m)\u001b[49m\n\u001b[32m    339\u001b[39m     Client.\u001b[34m__init__\u001b[39m(\n\u001b[32m    340\u001b[39m         \u001b[38;5;28mself\u001b[39m, credentials=credentials, client_options=client_options, _http=_http\n\u001b[32m    341\u001b[39m     )\n",
      "\u001b[36mFile \u001b[39m\u001b[32m~/Documents/Projects/RoadToMistral/.venv/lib/python3.13/site-packages/google/cloud/client/__init__.py:286\u001b[39m, in \u001b[36m_ClientProjectMixin.__init__\u001b[39m\u001b[34m(self, project, credentials)\u001b[39m\n\u001b[32m    283\u001b[39m     project = \u001b[38;5;28mgetattr\u001b[39m(credentials, \u001b[33m\"\u001b[39m\u001b[33mproject_id\u001b[39m\u001b[33m\"\u001b[39m, \u001b[38;5;28;01mNone\u001b[39;00m)\n\u001b[32m    285\u001b[39m \u001b[38;5;28;01mif\u001b[39;00m project \u001b[38;5;129;01mis\u001b[39;00m \u001b[38;5;28;01mNone\u001b[39;00m:\n\u001b[32m--> \u001b[39m\u001b[32m286\u001b[39m     project = \u001b[38;5;28;43mself\u001b[39;49m\u001b[43m.\u001b[49m\u001b[43m_determine_default\u001b[49m\u001b[43m(\u001b[49m\u001b[43mproject\u001b[49m\u001b[43m)\u001b[49m\n\u001b[32m    288\u001b[39m \u001b[38;5;28;01mif\u001b[39;00m project \u001b[38;5;129;01mis\u001b[39;00m \u001b[38;5;28;01mNone\u001b[39;00m:\n\u001b[32m    289\u001b[39m     \u001b[38;5;28;01mraise\u001b[39;00m \u001b[38;5;167;01mEnvironmentError\u001b[39;00m(\n\u001b[32m    290\u001b[39m         \u001b[33m\"\u001b[39m\u001b[33mProject was not passed and could not be \u001b[39m\u001b[33m\"\u001b[39m\n\u001b[32m    291\u001b[39m         \u001b[33m\"\u001b[39m\u001b[33mdetermined from the environment.\u001b[39m\u001b[33m\"\u001b[39m\n\u001b[32m    292\u001b[39m     )\n",
      "\u001b[36mFile \u001b[39m\u001b[32m~/Documents/Projects/RoadToMistral/.venv/lib/python3.13/site-packages/google/cloud/client/__init__.py:305\u001b[39m, in \u001b[36m_ClientProjectMixin._determine_default\u001b[39m\u001b[34m(project)\u001b[39m\n\u001b[32m    302\u001b[39m \u001b[38;5;129m@staticmethod\u001b[39m\n\u001b[32m    303\u001b[39m \u001b[38;5;28;01mdef\u001b[39;00m\u001b[38;5;250m \u001b[39m\u001b[34m_determine_default\u001b[39m(project):\n\u001b[32m    304\u001b[39m \u001b[38;5;250m    \u001b[39m\u001b[33;03m\"\"\"Helper:  use default project detection.\"\"\"\u001b[39;00m\n\u001b[32m--> \u001b[39m\u001b[32m305\u001b[39m     \u001b[38;5;28;01mreturn\u001b[39;00m \u001b[43m_determine_default_project\u001b[49m\u001b[43m(\u001b[49m\u001b[43mproject\u001b[49m\u001b[43m)\u001b[49m\n",
      "\u001b[36mFile \u001b[39m\u001b[32m~/Documents/Projects/RoadToMistral/.venv/lib/python3.13/site-packages/google/cloud/_helpers/__init__.py:152\u001b[39m, in \u001b[36m_determine_default_project\u001b[39m\u001b[34m(project)\u001b[39m\n\u001b[32m    140\u001b[39m \u001b[38;5;250m\u001b[39m\u001b[33;03m\"\"\"Determine default project ID explicitly or implicitly as fall-back.\u001b[39;00m\n\u001b[32m    141\u001b[39m \n\u001b[32m    142\u001b[39m \u001b[33;03mSee :func:`google.auth.default` for details on how the default project\u001b[39;00m\n\u001b[32m   (...)\u001b[39m\u001b[32m    149\u001b[39m \u001b[33;03m:returns: Default project if it can be determined.\u001b[39;00m\n\u001b[32m    150\u001b[39m \u001b[33;03m\"\"\"\u001b[39;00m\n\u001b[32m    151\u001b[39m \u001b[38;5;28;01mif\u001b[39;00m project \u001b[38;5;129;01mis\u001b[39;00m \u001b[38;5;28;01mNone\u001b[39;00m:\n\u001b[32m--> \u001b[39m\u001b[32m152\u001b[39m     _, project = \u001b[43mgoogle\u001b[49m\u001b[43m.\u001b[49m\u001b[43mauth\u001b[49m\u001b[43m.\u001b[49m\u001b[43mdefault\u001b[49m\u001b[43m(\u001b[49m\u001b[43m)\u001b[49m\n\u001b[32m    153\u001b[39m \u001b[38;5;28;01mreturn\u001b[39;00m project\n",
      "\u001b[36mFile \u001b[39m\u001b[32m~/Documents/Projects/RoadToMistral/.venv/lib/python3.13/site-packages/google/auth/_default.py:685\u001b[39m, in \u001b[36mdefault\u001b[39m\u001b[34m(scopes, request, quota_project_id, default_scopes)\u001b[39m\n\u001b[32m    677\u001b[39m             _LOGGER.warning(\n\u001b[32m    678\u001b[39m                 \u001b[33m\"\u001b[39m\u001b[33mNo project ID could be determined. Consider running \u001b[39m\u001b[33m\"\u001b[39m\n\u001b[32m    679\u001b[39m                 \u001b[33m\"\u001b[39m\u001b[33m`gcloud config set project` or setting the \u001b[39m\u001b[38;5;132;01m%s\u001b[39;00m\u001b[33m \u001b[39m\u001b[33m\"\u001b[39m\n\u001b[32m    680\u001b[39m                 \u001b[33m\"\u001b[39m\u001b[33menvironment variable\u001b[39m\u001b[33m\"\u001b[39m,\n\u001b[32m    681\u001b[39m                 environment_vars.PROJECT,\n\u001b[32m    682\u001b[39m             )\n\u001b[32m    683\u001b[39m         \u001b[38;5;28;01mreturn\u001b[39;00m credentials, effective_project_id\n\u001b[32m--> \u001b[39m\u001b[32m685\u001b[39m \u001b[38;5;28;01mraise\u001b[39;00m exceptions.DefaultCredentialsError(_CLOUD_SDK_MISSING_CREDENTIALS)\n",
      "\u001b[31mDefaultCredentialsError\u001b[39m: Your default credentials were not found. To set up Application Default Credentials, see https://cloud.google.com/docs/authentication/external/set-up-adc for more information."
     ]
    }
   ],
   "source": [
    "from google.cloud import storage\n",
    "\n",
    "client = storage.Client()\n",
    "\n",
    "buckets = client.list_buckets()\n",
    "for bucket in buckets:\n",
    "    print(bucket.name)"
   ]
  },
  {
   "cell_type": "code",
   "execution_count": 98,
   "id": "974675d8",
   "metadata": {},
   "outputs": [
    {
     "name": "stderr",
     "output_type": "stream",
     "text": [
      "python-dotenv could not parse statement starting at line 8\n",
      "python-dotenv could not parse statement starting at line 9\n",
      "python-dotenv could not parse statement starting at line 10\n",
      "python-dotenv could not parse statement starting at line 11\n",
      "python-dotenv could not parse statement starting at line 12\n",
      "python-dotenv could not parse statement starting at line 13\n",
      "python-dotenv could not parse statement starting at line 14\n",
      "python-dotenv could not parse statement starting at line 15\n",
      "python-dotenv could not parse statement starting at line 16\n",
      "python-dotenv could not parse statement starting at line 17\n",
      "python-dotenv could not parse statement starting at line 18\n"
     ]
    }
   ],
   "source": [
    "from dotenv import load_dotenv\n",
    "import os\n",
    "\n",
    "load_dotenv()\n",
    "\n",
    "GCS_ID= os.getenv(\"GCS_CREDENTIALS\")"
   ]
  },
  {
   "cell_type": "code",
   "execution_count": 88,
   "id": "d0491840",
   "metadata": {},
   "outputs": [],
   "source": [
    "import io, base64\n",
    "from google.cloud import storage\n",
    "from datetime import timedelta"
   ]
  },
  {
   "cell_type": "code",
   "execution_count": 92,
   "id": "79c368cb",
   "metadata": {},
   "outputs": [],
   "source": [
    "\n",
    "# -------- Cache modèle (Génération de musique)-----------\n",
    "MODEL_ID = \"facebook/musicgen-small\"\n",
    "_processor = None\n",
    "_model = None\n",
    "\n",
    "def _load_model_once():\n",
    "    global _processor, _model\n",
    "    if _processor is None or _model is None:\n",
    "        _processor = AutoProcessor.from_pretrained(MODEL_ID)\n",
    "        _model = MusicgenForConditionalGeneration.from_pretrained(MODEL_ID)\n",
    "        _model.eval().to(\"cpu\")\n"
   ]
  },
  {
   "cell_type": "code",
   "execution_count": 94,
   "id": "2e236429",
   "metadata": {},
   "outputs": [],
   "source": [
    "def upload_base64_to_gcs(b64_data: str, dest_name: str, content_type: str = \"application/octet-stream\", expires_sec: int = 3600) -> str:\n",
    "    \"\"\"\n",
    "    Décode un base64 et l'upload dans GCS.\n",
    "    Retourne une URL signée pour télécharger le fichier.\n",
    "    \"\"\"\n",
    "    client = storage.Client(project = \"My First Project\")\n",
    "    bucket = client.bucket(\"mood2music-uploads\")\n",
    "    blob = bucket.blob(dest_name)\n",
    "\n",
    "    # décoder le base64 en bytes\n",
    "    file_bytes = base64.b64decode(b64_data)\n",
    "\n",
    "    # upload depuis mémoire\n",
    "    blob.upload_from_string(file_bytes, content_type=content_type)\n",
    "\n",
    "    # générer une URL signée (download direct)\n",
    "    url = blob.generate_signed_url(\n",
    "        version=\"v4\",\n",
    "        expiration=timedelta(seconds=expires_sec),\n",
    "        method=\"GET\"\n",
    "    )\n",
    "    return url"
   ]
  },
  {
   "cell_type": "code",
   "execution_count": 95,
   "id": "d3204747",
   "metadata": {},
   "outputs": [],
   "source": [
    "def generate_music(user_prompt: str, seconds: int = 10, guidance_scale: float = 3.0):\n",
    "    \"\"\"\n",
    "    Génère un extrait musical avec MusicGen et renvoie un WAV encodé en base64.\n",
    "    - user_prompt: description du style (ex: \"lofi chill with warm piano\")\n",
    "    - seconds: durée approx (5-12s recommandé en CPU)\n",
    "    - guidance_scale: 2.0–4.0 = contrainte du prompt\n",
    "    \"\"\"\n",
    "    try:\n",
    "        _load_model_once()\n",
    "\n",
    "        # approx: ~256 tokens ≈ 5s\n",
    "        max_new_tokens = max(128, min(1024, int(51.2 * seconds)))\n",
    "\n",
    "        inputs = _processor(text=[user_prompt], padding=True, return_tensors=\"pt\")\n",
    "        with torch.inference_mode():\n",
    "            audio_values = _model.generate(\n",
    "                **inputs,\n",
    "                do_sample=True,\n",
    "                guidance_scale=guidance_scale,\n",
    "                max_new_tokens=max_new_tokens\n",
    "            )\n",
    "\n",
    "        wav = audio_values[0, 0].cpu().numpy()\n",
    "        sr = _model.config.audio_encoder.sampling_rate\n",
    "\n",
    "        # Écrire dans un buffer mémoire\n",
    "        buffer = io.BytesIO()\n",
    "        sf.write(buffer, wav, sr, format=\"WAV\")\n",
    "        buffer.seek(0)\n",
    "\n",
    "        # Encoder en base64\n",
    "        b64_audio = base64.b64encode(buffer.read()).decode(\"utf-8\")\n",
    "\n",
    "        url = upload_base64_to_gcs(b64_audio, \"test\")\n",
    "        print(url)\n",
    "        return {\n",
    "            \"status\": \"ok\",\n",
    "            \"prompt\": user_prompt,\n",
    "            \"approx_seconds\": round(len(wav) / sr, 2),\n",
    "            \"sampling_rate\": sr,\n",
    "            \"filename\": \"musicgen_demo.wav\",\n",
    "            \"mimetype\": \"audio/wav\",\n",
    "            \"data_base64\": b64_audio\n",
    "        }\n",
    "    \n",
    "    \n",
    "\n",
    "    except Exception as e:\n",
    "        return {\"status\": \"error\", \"message\": str(e)}"
   ]
  },
  {
   "cell_type": "code",
   "execution_count": 96,
   "id": "01e1af35",
   "metadata": {},
   "outputs": [
    {
     "data": {
      "text/plain": [
       "{'status': 'error',\n",
       " 'message': 'Your default credentials were not found. To set up Application Default Credentials, see https://cloud.google.com/docs/authentication/external/set-up-adc for more information.'}"
      ]
     },
     "execution_count": 96,
     "metadata": {},
     "output_type": "execute_result"
    }
   ],
   "source": [
    "generate_music(\"country music\")"
   ]
  },
  {
   "cell_type": "code",
   "execution_count": 103,
   "id": "14eaa3f9",
   "metadata": {},
   "outputs": [
    {
     "name": "stdout",
     "output_type": "stream",
     "text": [
      "Bucket choisi: mood2music-uploads\n"
     ]
    }
   ],
   "source": [
    "import os\n",
    "os.environ[\"GCS_BUCKET\"] = \"mood2music-uploads\"\n",
    "\n",
    "BUCKET_NAME = os.environ[\"GCS_BUCKET\"]\n",
    "print(\"Bucket choisi:\", BUCKET_NAME)\n"
   ]
  },
  {
   "cell_type": "code",
   "execution_count": 104,
   "id": "75c7e789",
   "metadata": {},
   "outputs": [
    {
     "ename": "DefaultCredentialsError",
     "evalue": "Your default credentials were not found. To set up Application Default Credentials, see https://cloud.google.com/docs/authentication/external/set-up-adc for more information.",
     "output_type": "error",
     "traceback": [
      "\u001b[31m---------------------------------------------------------------------------\u001b[39m",
      "\u001b[31mDefaultCredentialsError\u001b[39m                   Traceback (most recent call last)",
      "\u001b[36mCell\u001b[39m\u001b[36m \u001b[39m\u001b[32mIn[104]\u001b[39m\u001b[32m, line 37\u001b[39m\n\u001b[32m     34\u001b[39m local_file = \u001b[33m\"\u001b[39m\u001b[33mmusicgen_demo.wav\u001b[39m\u001b[33m\"\u001b[39m  \u001b[38;5;66;03m# ton fichier local\u001b[39;00m\n\u001b[32m     35\u001b[39m gcs_name = \u001b[33m\"\u001b[39m\u001b[33mgenerated/musicgen_demo.wav\u001b[39m\u001b[33m\"\u001b[39m  \u001b[38;5;66;03m# où le stocker dans le bucket\u001b[39;00m\n\u001b[32m---> \u001b[39m\u001b[32m37\u001b[39m url = \u001b[43mupload_wav_to_gcs\u001b[49m\u001b[43m(\u001b[49m\u001b[43mlocal_file\u001b[49m\u001b[43m,\u001b[49m\u001b[43m \u001b[49m\u001b[43mgcs_name\u001b[49m\u001b[43m)\u001b[49m\n\u001b[32m     38\u001b[39m \u001b[38;5;28mprint\u001b[39m(\u001b[33m\"\u001b[39m\u001b[33m✅ Fichier uploadé ! Télécharge-le ici :\u001b[39m\u001b[33m\"\u001b[39m, url)\n",
      "\u001b[36mCell\u001b[39m\u001b[36m \u001b[39m\u001b[32mIn[104]\u001b[39m\u001b[32m, line 16\u001b[39m, in \u001b[36mupload_wav_to_gcs\u001b[39m\u001b[34m(local_path, dest_name)\u001b[39m\n\u001b[32m      9\u001b[39m \u001b[38;5;250m\u001b[39m\u001b[33;03m\"\"\"\u001b[39;00m\n\u001b[32m     10\u001b[39m \u001b[33;03mUpload un fichier WAV dans GCS et retourne une URL signée (valable 1h).\u001b[39;00m\n\u001b[32m     11\u001b[39m \n\u001b[32m     12\u001b[39m \u001b[33;03m- local_path : chemin du fichier local (ex: \"musicgen_demo.wav\")\u001b[39;00m\n\u001b[32m     13\u001b[39m \u001b[33;03m- dest_name : chemin/nom dans le bucket (ex: \"generated/musicgen_demo.wav\")\u001b[39;00m\n\u001b[32m     14\u001b[39m \u001b[33;03m\"\"\"\u001b[39;00m\n\u001b[32m     15\u001b[39m \u001b[38;5;66;03m# Crée un client GCS (il va utiliser ton .json via GOOGLE_APPLICATION_CREDENTIALS)\u001b[39;00m\n\u001b[32m---> \u001b[39m\u001b[32m16\u001b[39m client = \u001b[43mstorage\u001b[49m\u001b[43m.\u001b[49m\u001b[43mClient\u001b[49m\u001b[43m(\u001b[49m\u001b[43m)\u001b[49m\n\u001b[32m     17\u001b[39m bucket = client.bucket(BUCKET_NAME)\n\u001b[32m     18\u001b[39m blob = bucket.blob(dest_name)\n",
      "\u001b[36mFile \u001b[39m\u001b[32m~/Documents/Projects/RoadToMistral/.venv/lib/python3.13/site-packages/google/cloud/storage/client.py:247\u001b[39m, in \u001b[36mClient.__init__\u001b[39m\u001b[34m(self, project, credentials, _http, client_info, client_options, use_auth_w_custom_endpoint, extra_headers, api_key)\u001b[39m\n\u001b[32m    244\u001b[39m             no_project = \u001b[38;5;28;01mTrue\u001b[39;00m\n\u001b[32m    245\u001b[39m             project = \u001b[33m\"\u001b[39m\u001b[33m<none>\u001b[39m\u001b[33m\"\u001b[39m\n\u001b[32m--> \u001b[39m\u001b[32m247\u001b[39m \u001b[38;5;28;43msuper\u001b[39;49m\u001b[43m(\u001b[49m\u001b[43mClient\u001b[49m\u001b[43m,\u001b[49m\u001b[43m \u001b[49m\u001b[38;5;28;43mself\u001b[39;49m\u001b[43m)\u001b[49m\u001b[43m.\u001b[49m\u001b[34;43m__init__\u001b[39;49m\u001b[43m(\u001b[49m\n\u001b[32m    248\u001b[39m \u001b[43m    \u001b[49m\u001b[43mproject\u001b[49m\u001b[43m=\u001b[49m\u001b[43mproject\u001b[49m\u001b[43m,\u001b[49m\n\u001b[32m    249\u001b[39m \u001b[43m    \u001b[49m\u001b[43mcredentials\u001b[49m\u001b[43m=\u001b[49m\u001b[43mcredentials\u001b[49m\u001b[43m,\u001b[49m\n\u001b[32m    250\u001b[39m \u001b[43m    \u001b[49m\u001b[43mclient_options\u001b[49m\u001b[43m=\u001b[49m\u001b[43mclient_options\u001b[49m\u001b[43m,\u001b[49m\n\u001b[32m    251\u001b[39m \u001b[43m    \u001b[49m\u001b[43m_http\u001b[49m\u001b[43m=\u001b[49m\u001b[43m_http\u001b[49m\u001b[43m,\u001b[49m\n\u001b[32m    252\u001b[39m \u001b[43m\u001b[49m\u001b[43m)\u001b[49m\n\u001b[32m    254\u001b[39m \u001b[38;5;66;03m# Validate that the universe domain of the credentials matches the\u001b[39;00m\n\u001b[32m    255\u001b[39m \u001b[38;5;66;03m# universe domain of the client.\u001b[39;00m\n\u001b[32m    256\u001b[39m \u001b[38;5;28;01mif\u001b[39;00m \u001b[38;5;28mself\u001b[39m._credentials.universe_domain != \u001b[38;5;28mself\u001b[39m.universe_domain:\n",
      "\u001b[36mFile \u001b[39m\u001b[32m~/Documents/Projects/RoadToMistral/.venv/lib/python3.13/site-packages/google/cloud/client/__init__.py:338\u001b[39m, in \u001b[36mClientWithProject.__init__\u001b[39m\u001b[34m(self, project, credentials, client_options, _http)\u001b[39m\n\u001b[32m    337\u001b[39m \u001b[38;5;28;01mdef\u001b[39;00m\u001b[38;5;250m \u001b[39m\u001b[34m__init__\u001b[39m(\u001b[38;5;28mself\u001b[39m, project=\u001b[38;5;28;01mNone\u001b[39;00m, credentials=\u001b[38;5;28;01mNone\u001b[39;00m, client_options=\u001b[38;5;28;01mNone\u001b[39;00m, _http=\u001b[38;5;28;01mNone\u001b[39;00m):\n\u001b[32m--> \u001b[39m\u001b[32m338\u001b[39m     \u001b[43m_ClientProjectMixin\u001b[49m\u001b[43m.\u001b[49m\u001b[34;43m__init__\u001b[39;49m\u001b[43m(\u001b[49m\u001b[38;5;28;43mself\u001b[39;49m\u001b[43m,\u001b[49m\u001b[43m \u001b[49m\u001b[43mproject\u001b[49m\u001b[43m=\u001b[49m\u001b[43mproject\u001b[49m\u001b[43m,\u001b[49m\u001b[43m \u001b[49m\u001b[43mcredentials\u001b[49m\u001b[43m=\u001b[49m\u001b[43mcredentials\u001b[49m\u001b[43m)\u001b[49m\n\u001b[32m    339\u001b[39m     Client.\u001b[34m__init__\u001b[39m(\n\u001b[32m    340\u001b[39m         \u001b[38;5;28mself\u001b[39m, credentials=credentials, client_options=client_options, _http=_http\n\u001b[32m    341\u001b[39m     )\n",
      "\u001b[36mFile \u001b[39m\u001b[32m~/Documents/Projects/RoadToMistral/.venv/lib/python3.13/site-packages/google/cloud/client/__init__.py:286\u001b[39m, in \u001b[36m_ClientProjectMixin.__init__\u001b[39m\u001b[34m(self, project, credentials)\u001b[39m\n\u001b[32m    283\u001b[39m     project = \u001b[38;5;28mgetattr\u001b[39m(credentials, \u001b[33m\"\u001b[39m\u001b[33mproject_id\u001b[39m\u001b[33m\"\u001b[39m, \u001b[38;5;28;01mNone\u001b[39;00m)\n\u001b[32m    285\u001b[39m \u001b[38;5;28;01mif\u001b[39;00m project \u001b[38;5;129;01mis\u001b[39;00m \u001b[38;5;28;01mNone\u001b[39;00m:\n\u001b[32m--> \u001b[39m\u001b[32m286\u001b[39m     project = \u001b[38;5;28;43mself\u001b[39;49m\u001b[43m.\u001b[49m\u001b[43m_determine_default\u001b[49m\u001b[43m(\u001b[49m\u001b[43mproject\u001b[49m\u001b[43m)\u001b[49m\n\u001b[32m    288\u001b[39m \u001b[38;5;28;01mif\u001b[39;00m project \u001b[38;5;129;01mis\u001b[39;00m \u001b[38;5;28;01mNone\u001b[39;00m:\n\u001b[32m    289\u001b[39m     \u001b[38;5;28;01mraise\u001b[39;00m \u001b[38;5;167;01mEnvironmentError\u001b[39;00m(\n\u001b[32m    290\u001b[39m         \u001b[33m\"\u001b[39m\u001b[33mProject was not passed and could not be \u001b[39m\u001b[33m\"\u001b[39m\n\u001b[32m    291\u001b[39m         \u001b[33m\"\u001b[39m\u001b[33mdetermined from the environment.\u001b[39m\u001b[33m\"\u001b[39m\n\u001b[32m    292\u001b[39m     )\n",
      "\u001b[36mFile \u001b[39m\u001b[32m~/Documents/Projects/RoadToMistral/.venv/lib/python3.13/site-packages/google/cloud/client/__init__.py:305\u001b[39m, in \u001b[36m_ClientProjectMixin._determine_default\u001b[39m\u001b[34m(project)\u001b[39m\n\u001b[32m    302\u001b[39m \u001b[38;5;129m@staticmethod\u001b[39m\n\u001b[32m    303\u001b[39m \u001b[38;5;28;01mdef\u001b[39;00m\u001b[38;5;250m \u001b[39m\u001b[34m_determine_default\u001b[39m(project):\n\u001b[32m    304\u001b[39m \u001b[38;5;250m    \u001b[39m\u001b[33;03m\"\"\"Helper:  use default project detection.\"\"\"\u001b[39;00m\n\u001b[32m--> \u001b[39m\u001b[32m305\u001b[39m     \u001b[38;5;28;01mreturn\u001b[39;00m \u001b[43m_determine_default_project\u001b[49m\u001b[43m(\u001b[49m\u001b[43mproject\u001b[49m\u001b[43m)\u001b[49m\n",
      "\u001b[36mFile \u001b[39m\u001b[32m~/Documents/Projects/RoadToMistral/.venv/lib/python3.13/site-packages/google/cloud/_helpers/__init__.py:152\u001b[39m, in \u001b[36m_determine_default_project\u001b[39m\u001b[34m(project)\u001b[39m\n\u001b[32m    140\u001b[39m \u001b[38;5;250m\u001b[39m\u001b[33;03m\"\"\"Determine default project ID explicitly or implicitly as fall-back.\u001b[39;00m\n\u001b[32m    141\u001b[39m \n\u001b[32m    142\u001b[39m \u001b[33;03mSee :func:`google.auth.default` for details on how the default project\u001b[39;00m\n\u001b[32m   (...)\u001b[39m\u001b[32m    149\u001b[39m \u001b[33;03m:returns: Default project if it can be determined.\u001b[39;00m\n\u001b[32m    150\u001b[39m \u001b[33;03m\"\"\"\u001b[39;00m\n\u001b[32m    151\u001b[39m \u001b[38;5;28;01mif\u001b[39;00m project \u001b[38;5;129;01mis\u001b[39;00m \u001b[38;5;28;01mNone\u001b[39;00m:\n\u001b[32m--> \u001b[39m\u001b[32m152\u001b[39m     _, project = \u001b[43mgoogle\u001b[49m\u001b[43m.\u001b[49m\u001b[43mauth\u001b[49m\u001b[43m.\u001b[49m\u001b[43mdefault\u001b[49m\u001b[43m(\u001b[49m\u001b[43m)\u001b[49m\n\u001b[32m    153\u001b[39m \u001b[38;5;28;01mreturn\u001b[39;00m project\n",
      "\u001b[36mFile \u001b[39m\u001b[32m~/Documents/Projects/RoadToMistral/.venv/lib/python3.13/site-packages/google/auth/_default.py:685\u001b[39m, in \u001b[36mdefault\u001b[39m\u001b[34m(scopes, request, quota_project_id, default_scopes)\u001b[39m\n\u001b[32m    677\u001b[39m             _LOGGER.warning(\n\u001b[32m    678\u001b[39m                 \u001b[33m\"\u001b[39m\u001b[33mNo project ID could be determined. Consider running \u001b[39m\u001b[33m\"\u001b[39m\n\u001b[32m    679\u001b[39m                 \u001b[33m\"\u001b[39m\u001b[33m`gcloud config set project` or setting the \u001b[39m\u001b[38;5;132;01m%s\u001b[39;00m\u001b[33m \u001b[39m\u001b[33m\"\u001b[39m\n\u001b[32m    680\u001b[39m                 \u001b[33m\"\u001b[39m\u001b[33menvironment variable\u001b[39m\u001b[33m\"\u001b[39m,\n\u001b[32m    681\u001b[39m                 environment_vars.PROJECT,\n\u001b[32m    682\u001b[39m             )\n\u001b[32m    683\u001b[39m         \u001b[38;5;28;01mreturn\u001b[39;00m credentials, effective_project_id\n\u001b[32m--> \u001b[39m\u001b[32m685\u001b[39m \u001b[38;5;28;01mraise\u001b[39;00m exceptions.DefaultCredentialsError(_CLOUD_SDK_MISSING_CREDENTIALS)\n",
      "\u001b[31mDefaultCredentialsError\u001b[39m: Your default credentials were not found. To set up Application Default Credentials, see https://cloud.google.com/docs/authentication/external/set-up-adc for more information."
     ]
    }
   ],
   "source": [
    "from google.cloud import storage\n",
    "import os\n",
    "from datetime import timedelta\n",
    "\n",
    "# On lit le nom du bucket dans la variable d’env\n",
    "BUCKET_NAME = os.environ[\"GCS_BUCKET\"]\n",
    "\n",
    "def upload_wav_to_gcs(local_path: str, dest_name: str) -> str:\n",
    "    \"\"\"\n",
    "    Upload un fichier WAV dans GCS et retourne une URL signée (valable 1h).\n",
    "    \n",
    "    - local_path : chemin du fichier local (ex: \"musicgen_demo.wav\")\n",
    "    - dest_name : chemin/nom dans le bucket (ex: \"generated/musicgen_demo.wav\")\n",
    "    \"\"\"\n",
    "    # Crée un client GCS (il va utiliser ton .json via GOOGLE_APPLICATION_CREDENTIALS)\n",
    "    client = storage.Client()\n",
    "    bucket = client.bucket(BUCKET_NAME)\n",
    "    blob = bucket.blob(dest_name)\n",
    "\n",
    "    # Upload du fichier local\n",
    "    blob.upload_from_filename(local_path, content_type=\"audio/wav\")\n",
    "\n",
    "    # Génère une URL signée pour télécharger\n",
    "    url = blob.generate_signed_url(\n",
    "        version=\"v4\",\n",
    "        expiration=timedelta(hours=1),\n",
    "        method=\"GET\"\n",
    "    )\n",
    "    return url\n",
    "\n",
    "\n",
    "# Exemple d’utilisation\n",
    "if __name__ == \"__main__\":\n",
    "    local_file = \"musicgen_demo.wav\"  # ton fichier local\n",
    "    gcs_name = \"generated/musicgen_demo.wav\"  # où le stocker dans le bucket\n",
    "\n",
    "    url = upload_wav_to_gcs(local_file, gcs_name)\n",
    "    print(\"✅ Fichier uploadé ! Télécharge-le ici :\", url)\n"
   ]
  },
  {
   "cell_type": "code",
   "execution_count": null,
   "id": "695a9565",
   "metadata": {},
   "outputs": [],
   "source": []
  }
 ],
 "metadata": {
  "kernelspec": {
   "display_name": "server-mcp",
   "language": "python",
   "name": "python3"
  },
  "language_info": {
   "codemirror_mode": {
    "name": "ipython",
    "version": 3
   },
   "file_extension": ".py",
   "mimetype": "text/x-python",
   "name": "python",
   "nbconvert_exporter": "python",
   "pygments_lexer": "ipython3",
   "version": "3.13.7"
  }
 },
 "nbformat": 4,
 "nbformat_minor": 5
}
