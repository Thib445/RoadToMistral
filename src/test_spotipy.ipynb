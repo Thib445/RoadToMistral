{
 "cells": [
  {
   "cell_type": "code",
   "execution_count": 48,
   "id": "baa64d6b",
   "metadata": {},
   "outputs": [],
   "source": [
    "from spotify_infos import sp, me"
   ]
  },
  {
   "cell_type": "markdown",
   "id": "02079da8",
   "metadata": {},
   "source": [
    "Ajouter une playlist"
   ]
  },
  {
   "cell_type": "code",
   "execution_count": 49,
   "id": "023be4be",
   "metadata": {},
   "outputs": [
    {
     "name": "stdout",
     "output_type": "stream",
     "text": [
      "Playlist: https://open.spotify.com/playlist/6d3z6sHGUc9T2LgqOuqxwb\n"
     ]
    }
   ],
   "source": [
    "playlist = sp.user_playlist_create(\n",
    "    user=me[\"id\"],\n",
    "    name=\"Mood2Music - Demo\",\n",
    "    public=False,\n",
    "    description=\"Playlist generated during hackathon\"\n",
    ")\n",
    "print(\"Playlist:\", playlist[\"external_urls\"][\"spotify\"])"
   ]
  },
  {
   "cell_type": "code",
   "execution_count": 50,
   "id": "aa0b9a6e",
   "metadata": {},
   "outputs": [
    {
     "name": "stdout",
     "output_type": "stream",
     "text": [
      "6d3z6sHGUc9T2LgqOuqxwb\n"
     ]
    }
   ],
   "source": [
    "print(playlist[\"id\"])"
   ]
  },
  {
   "cell_type": "code",
   "execution_count": 51,
   "id": "66d85044",
   "metadata": {},
   "outputs": [
    {
     "name": "stdout",
     "output_type": "stream",
     "text": [
      "{'collaborative': False, 'description': 'Playlist generated during hackathon', 'external_urls': {'spotify': 'https://open.spotify.com/playlist/6d3z6sHGUc9T2LgqOuqxwb'}, 'followers': {'href': None, 'total': 0}, 'href': 'https://api.spotify.com/v1/playlists/6d3z6sHGUc9T2LgqOuqxwb', 'id': '6d3z6sHGUc9T2LgqOuqxwb', 'images': [], 'primary_color': None, 'name': 'Mood2Music - Demo', 'type': 'playlist', 'uri': 'spotify:playlist:6d3z6sHGUc9T2LgqOuqxwb', 'owner': {'href': 'https://api.spotify.com/v1/users/thibaultm2003', 'id': 'thibaultm2003', 'type': 'user', 'uri': 'spotify:user:thibaultm2003', 'display_name': None, 'external_urls': {'spotify': 'https://open.spotify.com/user/thibaultm2003'}}, 'public': False, 'snapshot_id': 'AAABgYYGOz0/tc/C1z/Ch8+6h+DqmXSL', 'tracks': {'limit': 100, 'next': None, 'offset': 0, 'previous': None, 'href': 'https://api.spotify.com/v1/playlists/6d3z6sHGUc9T2LgqOuqxwb/tracks', 'total': 0, 'items': []}}\n"
     ]
    }
   ],
   "source": [
    "print(playlist)"
   ]
  },
  {
   "cell_type": "code",
   "execution_count": 52,
   "id": "be66e4a6",
   "metadata": {},
   "outputs": [
    {
     "data": {
      "text/plain": [
       "{'snapshot_id': 'AAAAAi3SaRhlQxx0uwO7hH6axpgqeFQg'}"
      ]
     },
     "execution_count": 52,
     "metadata": {},
     "output_type": "execute_result"
    }
   ],
   "source": [
    "sp.playlist_add_items(playlist[\"id\"], [mhd_id])"
   ]
  },
  {
   "cell_type": "markdown",
   "id": "b61e1185",
   "metadata": {},
   "source": [
    "Ajouter un son à une playlist"
   ]
  },
  {
   "cell_type": "code",
   "execution_count": 53,
   "id": "a7ca7078",
   "metadata": {},
   "outputs": [
    {
     "name": "stdout",
     "output_type": "stream",
     "text": [
      "Added one track.\n"
     ]
    }
   ],
   "source": [
    "sp.playlist_add_items(playlist[\"id\"], [\"spotify:track:4uLU6hMCjMI75M1A2tKUQC\"])\n",
    "print(\"Added one track.\")"
   ]
  },
  {
   "cell_type": "code",
   "execution_count": 54,
   "id": "cbfc0e55",
   "metadata": {},
   "outputs": [],
   "source": [
    "# --- ajouter un titre précis à une playlist ---\n",
    "def findsongID(query : str, type = 'track'):\n",
    "    results = sp.search(q = query, limit=1, type = type)\n",
    "    song_id = results[type + 's']['items'][0]['id']\n",
    "    return song_id\n",
    "\n",
    "def findplaylistID(query : str, type = 'playlist'):\n",
    "    results = sp.current_user_playlists(limit=50)\n",
    "    for pl in results[\"items\"]:\n",
    "        if query.lower() in pl[\"name\"].lower():\n",
    "            return pl[\"id\"]\n",
    "        \n",
    "def add2playlist(query_song : str, query_playlist : str, type = 'track'):\n",
    "    song_id, playlist_id = findsongID(query_song), findplaylistID(query_playlist)\n",
    "    sp.playlist_add_items(playlist_id, [f\"spotify:track:{song_id}\"])\n",
    "    return (f\"I added {query_song} to your playlist {query_playlist} !\")"
   ]
  },
  {
   "cell_type": "code",
   "execution_count": 59,
   "id": "a7706605",
   "metadata": {},
   "outputs": [],
   "source": [
    "def _find_song_id(query: str, market: Optional[str] = None) -> Optional[str]:\n",
    "    res = sp.search(q=query, limit=1, type=\"track\", market=market)\n",
    "    items = res.get(\"tracks\", {}).get(\"items\", []) or []\n",
    "    return items[0][\"id\"] if items else None\n",
    "\n",
    "\n",
    "def _find_my_playlist_id(query: str) -> Optional[str]:\n",
    "    res = sp.current_user_playlists(limit=50)\n",
    "    for pl in res.get(\"items\", []):\n",
    "        name = (pl.get(\"name\") or \"\").lower()\n",
    "        if query.lower() in name and pl.get(\"owner\", {}).get(\"id\") == me[\"id\"]:\n",
    "            return pl[\"id\"]\n",
    "    return None\n",
    "\n",
    "def add2playlist(song_query: str, playlist_query: str, allow_duplicates: bool = True, market: Optional[str] = \"from_token\") -> Dict[str, Any]:\n",
    "    \"\"\"\n",
    "    Find best match for 'song_query' and add it to YOUR playlist whose name contains 'playlist_query'.\n",
    "    Scopes: playlist-read-private + playlist-modify-private (or public)\n",
    "    \"\"\"\n",
    "    song_id = _find_song_id(song_query, market=market)\n",
    "    if not song_id:\n",
    "        return {\"status\": \"not_found\", \"entity\": \"track\", \"query\": song_query}\n",
    "\n",
    "    playlist_id = _find_my_playlist_id(playlist_query)\n",
    "    if not playlist_id:\n",
    "        return {\"status\": \"not_found\", \"entity\": \"playlist\", \"query\": playlist_query}\n",
    "\n",
    "    track_uri = f\"spotify:track:{song_id}\"\n",
    "\n",
    "    if not allow_duplicates:\n",
    "        items = sp.playlist_items(playlist_id, limit=100).get(\"items\", [])\n",
    "        if any(track_uri == (it.get(\"track\") or {}).get(\"uri\") for it in items):\n",
    "            return {\"status\": \"skipped\", \"reason\": \"duplicate\", \"playlist_id\": playlist_id, \"track_uri\": track_uri}\n",
    "\n",
    "    sp.playlist_add_items(playlist_id, [track_uri])\n",
    "    pl = sp.playlist(playlist_id, fields=\"name,external_urls.spotify\")\n",
    "    return {\"status\": \"added\", \"playlist_id\": playlist_id, \"playlist_name\": pl[\"name\"], \"playlist_url\": pl[\"external_urls\"][\"spotify\"], \"track_uri\": track_uri}\n"
   ]
  },
  {
   "cell_type": "code",
   "execution_count": 62,
   "id": "690dd706",
   "metadata": {},
   "outputs": [
    {
     "data": {
      "text/plain": [
       "{'status': 'added',\n",
       " 'playlist_id': '3ssN4qLkzvVsDeEnb9wpDZ',\n",
       " 'playlist_name': 'La putain de ta mère',\n",
       " 'playlist_url': 'https://open.spotify.com/playlist/3ssN4qLkzvVsDeEnb9wpDZ',\n",
       " 'track_uri': 'spotify:track:3sK8wGT43QFpWrvNQsrQya'}"
      ]
     },
     "execution_count": 62,
     "metadata": {},
     "output_type": "execute_result"
    }
   ],
   "source": [
    "add2playlist(\"DTMF\", \"La putain de ta mère\")"
   ]
  },
  {
   "cell_type": "code",
   "execution_count": 30,
   "id": "64fa4d86",
   "metadata": {},
   "outputs": [
    {
     "data": {
      "text/plain": [
       "'6wdI9sg2VdgjqSg0ozu9PK'"
      ]
     },
     "execution_count": 30,
     "metadata": {},
     "output_type": "execute_result"
    }
   ],
   "source": [
    "findsongID(\"afrotrap la puissance\")"
   ]
  },
  {
   "cell_type": "code",
   "execution_count": 31,
   "id": "ccf623c9",
   "metadata": {},
   "outputs": [
    {
     "data": {
      "text/plain": [
       "'6jjAbvUQC5RifW8CNAItTe'"
      ]
     },
     "execution_count": 31,
     "metadata": {},
     "output_type": "execute_result"
    }
   ],
   "source": [
    "findplaylistID(\"Afrotrap MHD\")"
   ]
  },
  {
   "cell_type": "code",
   "execution_count": 35,
   "id": "9970b0f2",
   "metadata": {},
   "outputs": [
    {
     "name": "stderr",
     "output_type": "stream",
     "text": [
      "HTTP Error for POST to https://api.spotify.com/v1/playlists/6jjAbvUQC5RifW8CNAItTe/tracks with Params: {'position': None} returned 403 due to Forbidden\n"
     ]
    },
    {
     "ename": "SpotifyException",
     "evalue": "http status: 403, code: -1 - https://api.spotify.com/v1/playlists/6jjAbvUQC5RifW8CNAItTe/tracks:\n Forbidden, reason: None",
     "output_type": "error",
     "traceback": [
      "\u001b[31m---------------------------------------------------------------------------\u001b[39m",
      "\u001b[31mHTTPError\u001b[39m                                 Traceback (most recent call last)",
      "\u001b[36mFile \u001b[39m\u001b[32m~/Documents/Projects/RoadToMistral/.venv/lib/python3.13/site-packages/spotipy/client.py:274\u001b[39m, in \u001b[36mSpotify._internal_call\u001b[39m\u001b[34m(self, method, url, payload, params)\u001b[39m\n\u001b[32m    269\u001b[39m response = \u001b[38;5;28mself\u001b[39m._session.request(\n\u001b[32m    270\u001b[39m     method, url, headers=headers, proxies=\u001b[38;5;28mself\u001b[39m.proxies,\n\u001b[32m    271\u001b[39m     timeout=\u001b[38;5;28mself\u001b[39m.requests_timeout, **args\n\u001b[32m    272\u001b[39m )\n\u001b[32m--> \u001b[39m\u001b[32m274\u001b[39m \u001b[43mresponse\u001b[49m\u001b[43m.\u001b[49m\u001b[43mraise_for_status\u001b[49m\u001b[43m(\u001b[49m\u001b[43m)\u001b[49m\n\u001b[32m    275\u001b[39m results = response.json()\n",
      "\u001b[36mFile \u001b[39m\u001b[32m~/Documents/Projects/RoadToMistral/.venv/lib/python3.13/site-packages/requests/models.py:1026\u001b[39m, in \u001b[36mResponse.raise_for_status\u001b[39m\u001b[34m(self)\u001b[39m\n\u001b[32m   1025\u001b[39m \u001b[38;5;28;01mif\u001b[39;00m http_error_msg:\n\u001b[32m-> \u001b[39m\u001b[32m1026\u001b[39m     \u001b[38;5;28;01mraise\u001b[39;00m HTTPError(http_error_msg, response=\u001b[38;5;28mself\u001b[39m)\n",
      "\u001b[31mHTTPError\u001b[39m: 403 Client Error: Forbidden for url: https://api.spotify.com/v1/playlists/6jjAbvUQC5RifW8CNAItTe/tracks",
      "\nDuring handling of the above exception, another exception occurred:\n",
      "\u001b[31mSpotifyException\u001b[39m                          Traceback (most recent call last)",
      "\u001b[36mCell\u001b[39m\u001b[36m \u001b[39m\u001b[32mIn[35]\u001b[39m\u001b[32m, line 1\u001b[39m\n\u001b[32m----> \u001b[39m\u001b[32m1\u001b[39m \u001b[43msp\u001b[49m\u001b[43m.\u001b[49m\u001b[43mplaylist_add_items\u001b[49m\u001b[43m(\u001b[49m\u001b[33;43m\"\u001b[39;49m\u001b[33;43m6jjAbvUQC5RifW8CNAItTe\u001b[39;49m\u001b[33;43m\"\u001b[39;49m\u001b[43m,\u001b[49m\u001b[43m \u001b[49m\u001b[43m[\u001b[49m\u001b[33;43m\"\u001b[39;49m\u001b[33;43mspotify:track:6wdI9sg2VdgjqSg0ozu9PK\u001b[39;49m\u001b[33;43m\"\u001b[39;49m\u001b[43m]\u001b[49m\u001b[43m)\u001b[49m\n",
      "\u001b[36mFile \u001b[39m\u001b[32m~/Documents/Projects/RoadToMistral/.venv/lib/python3.13/site-packages/spotipy/client.py:1119\u001b[39m, in \u001b[36mSpotify.playlist_add_items\u001b[39m\u001b[34m(self, playlist_id, items, position)\u001b[39m\n\u001b[32m   1117\u001b[39m plid = \u001b[38;5;28mself\u001b[39m._get_id(\u001b[33m\"\u001b[39m\u001b[33mplaylist\u001b[39m\u001b[33m\"\u001b[39m, playlist_id)\n\u001b[32m   1118\u001b[39m ftracks = [\u001b[38;5;28mself\u001b[39m._get_uri(\u001b[33m\"\u001b[39m\u001b[33mtrack\u001b[39m\u001b[33m\"\u001b[39m, tid) \u001b[38;5;28;01mfor\u001b[39;00m tid \u001b[38;5;129;01min\u001b[39;00m items]\n\u001b[32m-> \u001b[39m\u001b[32m1119\u001b[39m \u001b[38;5;28;01mreturn\u001b[39;00m \u001b[38;5;28;43mself\u001b[39;49m\u001b[43m.\u001b[49m\u001b[43m_post\u001b[49m\u001b[43m(\u001b[49m\n\u001b[32m   1120\u001b[39m \u001b[43m    \u001b[49m\u001b[33;43mf\u001b[39;49m\u001b[33;43m\"\u001b[39;49m\u001b[33;43mplaylists/\u001b[39;49m\u001b[38;5;132;43;01m{\u001b[39;49;00m\u001b[43mplid\u001b[49m\u001b[38;5;132;43;01m}\u001b[39;49;00m\u001b[33;43m/tracks\u001b[39;49m\u001b[33;43m\"\u001b[39;49m\u001b[43m,\u001b[49m\n\u001b[32m   1121\u001b[39m \u001b[43m    \u001b[49m\u001b[43mpayload\u001b[49m\u001b[43m=\u001b[49m\u001b[43mftracks\u001b[49m\u001b[43m,\u001b[49m\n\u001b[32m   1122\u001b[39m \u001b[43m    \u001b[49m\u001b[43mposition\u001b[49m\u001b[43m=\u001b[49m\u001b[43mposition\u001b[49m\u001b[43m,\u001b[49m\n\u001b[32m   1123\u001b[39m \u001b[43m\u001b[49m\u001b[43m)\u001b[49m\n",
      "\u001b[36mFile \u001b[39m\u001b[32m~/Documents/Projects/RoadToMistral/.venv/lib/python3.13/site-packages/spotipy/client.py:329\u001b[39m, in \u001b[36mSpotify._post\u001b[39m\u001b[34m(self, url, args, payload, **kwargs)\u001b[39m\n\u001b[32m    327\u001b[39m \u001b[38;5;28;01mif\u001b[39;00m args:\n\u001b[32m    328\u001b[39m     kwargs.update(args)\n\u001b[32m--> \u001b[39m\u001b[32m329\u001b[39m \u001b[38;5;28;01mreturn\u001b[39;00m \u001b[38;5;28;43mself\u001b[39;49m\u001b[43m.\u001b[49m\u001b[43m_internal_call\u001b[49m\u001b[43m(\u001b[49m\u001b[33;43m\"\u001b[39;49m\u001b[33;43mPOST\u001b[39;49m\u001b[33;43m\"\u001b[39;49m\u001b[43m,\u001b[49m\u001b[43m \u001b[49m\u001b[43murl\u001b[49m\u001b[43m,\u001b[49m\u001b[43m \u001b[49m\u001b[43mpayload\u001b[49m\u001b[43m,\u001b[49m\u001b[43m \u001b[49m\u001b[43mkwargs\u001b[49m\u001b[43m)\u001b[49m\n",
      "\u001b[36mFile \u001b[39m\u001b[32m~/Documents/Projects/RoadToMistral/.venv/lib/python3.13/site-packages/spotipy/client.py:294\u001b[39m, in \u001b[36mSpotify._internal_call\u001b[39m\u001b[34m(self, method, url, payload, params)\u001b[39m\n\u001b[32m    289\u001b[39m         reason = \u001b[38;5;28;01mNone\u001b[39;00m\n\u001b[32m    291\u001b[39m     logger.error(\u001b[33mf\u001b[39m\u001b[33m\"\u001b[39m\u001b[33mHTTP Error for \u001b[39m\u001b[38;5;132;01m{\u001b[39;00mmethod\u001b[38;5;132;01m}\u001b[39;00m\u001b[33m to \u001b[39m\u001b[38;5;132;01m{\u001b[39;00murl\u001b[38;5;132;01m}\u001b[39;00m\u001b[33m with Params: \u001b[39m\u001b[33m\"\u001b[39m\n\u001b[32m    292\u001b[39m                  \u001b[33mf\u001b[39m\u001b[33m\"\u001b[39m\u001b[38;5;132;01m{\u001b[39;00margs.get(\u001b[33m'\u001b[39m\u001b[33mparams\u001b[39m\u001b[33m'\u001b[39m)\u001b[38;5;132;01m}\u001b[39;00m\u001b[33m returned \u001b[39m\u001b[38;5;132;01m{\u001b[39;00mresponse.status_code\u001b[38;5;132;01m}\u001b[39;00m\u001b[33m due to \u001b[39m\u001b[38;5;132;01m{\u001b[39;00mmsg\u001b[38;5;132;01m}\u001b[39;00m\u001b[33m\"\u001b[39m)\n\u001b[32m--> \u001b[39m\u001b[32m294\u001b[39m     \u001b[38;5;28;01mraise\u001b[39;00m SpotifyException(\n\u001b[32m    295\u001b[39m         response.status_code,\n\u001b[32m    296\u001b[39m         -\u001b[32m1\u001b[39m,\n\u001b[32m    297\u001b[39m         \u001b[33mf\u001b[39m\u001b[33m\"\u001b[39m\u001b[38;5;132;01m{\u001b[39;00mresponse.url\u001b[38;5;132;01m}\u001b[39;00m\u001b[33m:\u001b[39m\u001b[38;5;130;01m\\n\u001b[39;00m\u001b[33m \u001b[39m\u001b[38;5;132;01m{\u001b[39;00mmsg\u001b[38;5;132;01m}\u001b[39;00m\u001b[33m\"\u001b[39m,\n\u001b[32m    298\u001b[39m         reason=reason,\n\u001b[32m    299\u001b[39m         headers=response.headers,\n\u001b[32m    300\u001b[39m     )\n\u001b[32m    301\u001b[39m \u001b[38;5;28;01mexcept\u001b[39;00m requests.exceptions.RetryError \u001b[38;5;28;01mas\u001b[39;00m retry_error:\n\u001b[32m    302\u001b[39m     request = retry_error.request\n",
      "\u001b[31mSpotifyException\u001b[39m: http status: 403, code: -1 - https://api.spotify.com/v1/playlists/6jjAbvUQC5RifW8CNAItTe/tracks:\n Forbidden, reason: None"
     ]
    }
   ],
   "source": [
    "sp.playlist_add_items(\"6jjAbvUQC5RifW8CNAItTe\", [\"spotify:track:6wdI9sg2VdgjqSg0ozu9PK\"])"
   ]
  },
  {
   "cell_type": "markdown",
   "id": "43d59b0b",
   "metadata": {},
   "source": [
    "Trouver son"
   ]
  },
  {
   "cell_type": "code",
   "execution_count": 19,
   "id": "9b109b45",
   "metadata": {},
   "outputs": [],
   "source": [
    "from requests import Session\n",
    "from requests.adapters import HTTPAdapter\n",
    "from urllib3.util.retry import Retry"
   ]
  },
  {
   "cell_type": "code",
   "execution_count": 21,
   "id": "6738d15f",
   "metadata": {},
   "outputs": [],
   "source": [
    "def search_id(query : str, playlist_name : str, type = 'track'):\n",
    "    results = sp.search(q = query, limit=1, type = type)\n",
    "    id = results[type + 's']['items'][0]['id']\n",
    "    return id\n"
   ]
  },
  {
   "cell_type": "code",
   "execution_count": 26,
   "id": "1f4fdc2f",
   "metadata": {},
   "outputs": [
    {
     "name": "stdout",
     "output_type": "stream",
     "text": [
      "6wdI9sg2VdgjqSg0ozu9PK\n"
     ]
    }
   ],
   "source": [
    "print(search_id(\"mhd afro trap\", \"mhd\"))\n",
    "\n",
    "mhd_id = search_id(\"mhd afro trap\", \"mhd\")"
   ]
  },
  {
   "cell_type": "code",
   "execution_count": null,
   "id": "fb0a58f1",
   "metadata": {},
   "outputs": [],
   "source": []
  }
 ],
 "metadata": {
  "kernelspec": {
   "display_name": "server-mcp",
   "language": "python",
   "name": "python3"
  },
  "language_info": {
   "codemirror_mode": {
    "name": "ipython",
    "version": 3
   },
   "file_extension": ".py",
   "mimetype": "text/x-python",
   "name": "python",
   "nbconvert_exporter": "python",
   "pygments_lexer": "ipython3",
   "version": "3.13.7"
  }
 },
 "nbformat": 4,
 "nbformat_minor": 5
}
