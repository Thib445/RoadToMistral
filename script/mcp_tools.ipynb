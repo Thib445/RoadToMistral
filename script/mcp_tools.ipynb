{
 "cells": [
  {
   "cell_type": "code",
   "execution_count": 15,
   "id": "b2c938ac",
   "metadata": {},
   "outputs": [],
   "source": [
    "# spotify credentials\n",
    "SPOTIPY_CLIENT_ID=\"12ae4c08efb74ce3a391b032514adae5\"\n",
    "SPOTIPY_CLIENT_SECRET=\"0cca7fdc50734671a395ba13080a7380\"\n",
    "SPOTIPY_REDIRECT_URI=\"http://localhost:8001/callback\""
   ]
  },
  {
   "cell_type": "code",
   "execution_count": null,
   "id": "bbc62eec",
   "metadata": {},
   "outputs": [
    {
     "data": {
      "text/html": [
       "<pre style=\"white-space:pre;overflow-x:auto;line-height:normal;font-family:Menlo,'DejaVu Sans Mono',consolas,'Courier New',monospace\"><span style=\"color: #7fbfbf; text-decoration-color: #7fbfbf\">[09/13/25 14:31:15] </span><span style=\"color: #808000; text-decoration-color: #808000\">WARNING </span> Tool already exists: add                                           <a href=\"file:///Users/elo/.pyenv/versions/3.12.2/envs/Hackaton/lib/python3.12/site-packages/fastmcp/tools/tool_manager.py\" target=\"_blank\"><span style=\"color: #7f7f7f; text-decoration-color: #7f7f7f\">tool_manager.py</span></a><span style=\"color: #7f7f7f; text-decoration-color: #7f7f7f\">:</span><a href=\"file:///Users/elo/.pyenv/versions/3.12.2/envs/Hackaton/lib/python3.12/site-packages/fastmcp/tools/tool_manager.py#171\" target=\"_blank\"><span style=\"color: #7f7f7f; text-decoration-color: #7f7f7f\">171</span></a>\n",
       "</pre>\n"
      ],
      "text/plain": [
       "\u001b[2;36m[09/13/25 14:31:15]\u001b[0m\u001b[2;36m \u001b[0m\u001b[33mWARNING \u001b[0m Tool already exists: add                                           \u001b]8;id=547090;file:///Users/elo/.pyenv/versions/3.12.2/envs/Hackaton/lib/python3.12/site-packages/fastmcp/tools/tool_manager.py\u001b\\\u001b[2mtool_manager.py\u001b[0m\u001b]8;;\u001b\\\u001b[2m:\u001b[0m\u001b]8;id=107349;file:///Users/elo/.pyenv/versions/3.12.2/envs/Hackaton/lib/python3.12/site-packages/fastmcp/tools/tool_manager.py#171\u001b\\\u001b[2m171\u001b[0m\u001b]8;;\u001b\\\n"
      ]
     },
     "metadata": {},
     "output_type": "display_data"
    },
    {
     "data": {
      "text/html": [
       "<pre style=\"white-space:pre;overflow-x:auto;line-height:normal;font-family:Menlo,'DejaVu Sans Mono',consolas,'Courier New',monospace\"><span style=\"color: #7fbfbf; text-decoration-color: #7fbfbf\">                    </span><span style=\"color: #808000; text-decoration-color: #808000\">WARNING </span> Tool already exists: greet                                         <a href=\"file:///Users/elo/.pyenv/versions/3.12.2/envs/Hackaton/lib/python3.12/site-packages/fastmcp/tools/tool_manager.py\" target=\"_blank\"><span style=\"color: #7f7f7f; text-decoration-color: #7f7f7f\">tool_manager.py</span></a><span style=\"color: #7f7f7f; text-decoration-color: #7f7f7f\">:</span><a href=\"file:///Users/elo/.pyenv/versions/3.12.2/envs/Hackaton/lib/python3.12/site-packages/fastmcp/tools/tool_manager.py#171\" target=\"_blank\"><span style=\"color: #7f7f7f; text-decoration-color: #7f7f7f\">171</span></a>\n",
       "</pre>\n"
      ],
      "text/plain": [
       "\u001b[2;36m                   \u001b[0m\u001b[2;36m \u001b[0m\u001b[33mWARNING \u001b[0m Tool already exists: greet                                         \u001b]8;id=304161;file:///Users/elo/.pyenv/versions/3.12.2/envs/Hackaton/lib/python3.12/site-packages/fastmcp/tools/tool_manager.py\u001b\\\u001b[2mtool_manager.py\u001b[0m\u001b]8;;\u001b\\\u001b[2m:\u001b[0m\u001b]8;id=336934;file:///Users/elo/.pyenv/versions/3.12.2/envs/Hackaton/lib/python3.12/site-packages/fastmcp/tools/tool_manager.py#171\u001b\\\u001b[2m171\u001b[0m\u001b]8;;\u001b\\\n"
      ]
     },
     "metadata": {},
     "output_type": "display_data"
    }
   ],
   "source": [
    "from server_launch import mcp\n",
    "\n",
    "@mcp.tool\n",
    "def add(a: int, b: int) -> int:\n",
    "    \"\"\"Add two numbers\"\"\"\n",
    "    return a + b\n",
    "\n",
    "@mcp.tool\n",
    "def greet(name: str) -> str:\n",
    "    return f\"Hello, {name}!\""
   ]
  },
  {
   "cell_type": "code",
   "execution_count": 17,
   "id": "c3dd7eb1",
   "metadata": {},
   "outputs": [],
   "source": [
    "@mcp.tool\n",
    "def newtool(name: str) -> str:\n",
    "    return f\"Hello, {name}!\""
   ]
  },
  {
   "cell_type": "code",
   "execution_count": 18,
   "id": "6581f45d",
   "metadata": {},
   "outputs": [
    {
     "name": "stderr",
     "output_type": "stream",
     "text": [
      "Using 'localhost' as a redirect URI is being deprecated. Use a loopback IP address such as 127.0.0.1 to ensure your app remains functional.\n"
     ]
    },
    {
     "name": "stdout",
     "output_type": "stream",
     "text": [
      "❌ Authentication needed: [Errno 48] Address already in use\n",
      "🔗 Please run the authentication cell below\n"
     ]
    }
   ],
   "source": [
    "\n",
    "\n",
    "# First time authentication - this will open a browser\n",
    "# You need to authorize the app in your browser\n",
    "\n",
    "try:\n",
    "    # This will open a browser window for authentication\n",
    "    user = sp.current_user()\n",
    "    print(f\"✅ Connected as: {user['display_name']}\")\n",
    "    print(f\"📧 Email: {user['email']}\")\n",
    "    print(f\"🆔 User ID: {user['id']}\")\n",
    "except Exception as e:\n",
    "    print(f\"❌ Authentication needed: {e}\")\n",
    "    print(\"🔗 Please run the authentication cell below\")"
   ]
  },
  {
   "cell_type": "code",
   "execution_count": 19,
   "id": "80beeedb",
   "metadata": {},
   "outputs": [
    {
     "name": "stderr",
     "output_type": "stream",
     "text": [
      "Using 'localhost' as a redirect URI is being deprecated. Use a loopback IP address such as 127.0.0.1 to ensure your app remains functional.\n"
     ]
    },
    {
     "ename": "OSError",
     "evalue": "[Errno 48] Address already in use",
     "output_type": "error",
     "traceback": [
      "\u001b[31m---------------------------------------------------------------------------\u001b[39m",
      "\u001b[31mOSError\u001b[39m                                   Traceback (most recent call last)",
      "\u001b[36mCell\u001b[39m\u001b[36m \u001b[39m\u001b[32mIn[19]\u001b[39m\u001b[32m, line 13\u001b[39m\n\u001b[32m      5\u001b[39m sp = spotipy.Spotify(auth_manager=SpotifyOAuth(\n\u001b[32m      6\u001b[39m     client_id=SPOTIPY_CLIENT_ID,\n\u001b[32m      7\u001b[39m     client_secret=SPOTIPY_CLIENT_SECRET,\n\u001b[32m      8\u001b[39m     redirect_uri=SPOTIPY_REDIRECT_URI,\n\u001b[32m      9\u001b[39m     scope=\u001b[33m\"\u001b[39m\u001b[33muser-read-recently-played user-top-read user-library-read\u001b[39m\u001b[33m\"\u001b[39m\n\u001b[32m     10\u001b[39m ))\n\u001b[32m     12\u001b[39m \u001b[38;5;66;03m# Test the connection\u001b[39;00m\n\u001b[32m---> \u001b[39m\u001b[32m13\u001b[39m user = \u001b[43msp\u001b[49m\u001b[43m.\u001b[49m\u001b[43mcurrent_user\u001b[49m\u001b[43m(\u001b[49m\u001b[43m)\u001b[49m\n\u001b[32m     14\u001b[39m \u001b[38;5;28mprint\u001b[39m(\u001b[33mf\u001b[39m\u001b[33m\"\u001b[39m\u001b[33mConnected as: \u001b[39m\u001b[38;5;132;01m{\u001b[39;00muser[\u001b[33m'\u001b[39m\u001b[33mdisplay_name\u001b[39m\u001b[33m'\u001b[39m]\u001b[38;5;132;01m}\u001b[39;00m\u001b[33m\"\u001b[39m)\n",
      "\u001b[36mFile \u001b[39m\u001b[32m~/.pyenv/versions/3.12.2/envs/Hackaton/lib/python3.12/site-packages/spotipy/client.py:1260\u001b[39m, in \u001b[36mSpotify.current_user\u001b[39m\u001b[34m(self)\u001b[39m\n\u001b[32m   1256\u001b[39m \u001b[38;5;28;01mdef\u001b[39;00m\u001b[38;5;250m \u001b[39m\u001b[34mcurrent_user\u001b[39m(\u001b[38;5;28mself\u001b[39m):\n\u001b[32m   1257\u001b[39m \u001b[38;5;250m    \u001b[39m\u001b[33;03m\"\"\" Get detailed profile information about the current user.\u001b[39;00m\n\u001b[32m   1258\u001b[39m \u001b[33;03m        An alias for the 'me' method.\u001b[39;00m\n\u001b[32m   1259\u001b[39m \u001b[33;03m    \"\"\"\u001b[39;00m\n\u001b[32m-> \u001b[39m\u001b[32m1260\u001b[39m     \u001b[38;5;28;01mreturn\u001b[39;00m \u001b[38;5;28;43mself\u001b[39;49m\u001b[43m.\u001b[49m\u001b[43mme\u001b[49m\u001b[43m(\u001b[49m\u001b[43m)\u001b[49m\n",
      "\u001b[36mFile \u001b[39m\u001b[32m~/.pyenv/versions/3.12.2/envs/Hackaton/lib/python3.12/site-packages/spotipy/client.py:1254\u001b[39m, in \u001b[36mSpotify.me\u001b[39m\u001b[34m(self)\u001b[39m\n\u001b[32m   1250\u001b[39m \u001b[38;5;28;01mdef\u001b[39;00m\u001b[38;5;250m \u001b[39m\u001b[34mme\u001b[39m(\u001b[38;5;28mself\u001b[39m):\n\u001b[32m   1251\u001b[39m \u001b[38;5;250m    \u001b[39m\u001b[33;03m\"\"\" Get detailed profile information about the current user.\u001b[39;00m\n\u001b[32m   1252\u001b[39m \u001b[33;03m        An alias for the 'current_user' method.\u001b[39;00m\n\u001b[32m   1253\u001b[39m \u001b[33;03m    \"\"\"\u001b[39;00m\n\u001b[32m-> \u001b[39m\u001b[32m1254\u001b[39m     \u001b[38;5;28;01mreturn\u001b[39;00m \u001b[38;5;28;43mself\u001b[39;49m\u001b[43m.\u001b[49m\u001b[43m_get\u001b[49m\u001b[43m(\u001b[49m\u001b[33;43m\"\u001b[39;49m\u001b[33;43mme/\u001b[39;49m\u001b[33;43m\"\u001b[39;49m\u001b[43m)\u001b[49m\n",
      "\u001b[36mFile \u001b[39m\u001b[32m~/.pyenv/versions/3.12.2/envs/Hackaton/lib/python3.12/site-packages/spotipy/client.py:324\u001b[39m, in \u001b[36mSpotify._get\u001b[39m\u001b[34m(self, url, args, payload, **kwargs)\u001b[39m\n\u001b[32m    321\u001b[39m \u001b[38;5;28;01mif\u001b[39;00m args:\n\u001b[32m    322\u001b[39m     kwargs.update(args)\n\u001b[32m--> \u001b[39m\u001b[32m324\u001b[39m \u001b[38;5;28;01mreturn\u001b[39;00m \u001b[38;5;28;43mself\u001b[39;49m\u001b[43m.\u001b[49m\u001b[43m_internal_call\u001b[49m\u001b[43m(\u001b[49m\u001b[33;43m\"\u001b[39;49m\u001b[33;43mGET\u001b[39;49m\u001b[33;43m\"\u001b[39;49m\u001b[43m,\u001b[49m\u001b[43m \u001b[49m\u001b[43murl\u001b[49m\u001b[43m,\u001b[49m\u001b[43m \u001b[49m\u001b[43mpayload\u001b[49m\u001b[43m,\u001b[49m\u001b[43m \u001b[49m\u001b[43mkwargs\u001b[49m\u001b[43m)\u001b[49m\n",
      "\u001b[36mFile \u001b[39m\u001b[32m~/.pyenv/versions/3.12.2/envs/Hackaton/lib/python3.12/site-packages/spotipy/client.py:250\u001b[39m, in \u001b[36mSpotify._internal_call\u001b[39m\u001b[34m(self, method, url, payload, params)\u001b[39m\n\u001b[32m    248\u001b[39m \u001b[38;5;28;01mif\u001b[39;00m \u001b[38;5;129;01mnot\u001b[39;00m url.startswith(\u001b[33m\"\u001b[39m\u001b[33mhttp\u001b[39m\u001b[33m\"\u001b[39m):\n\u001b[32m    249\u001b[39m     url = \u001b[38;5;28mself\u001b[39m.prefix + url\n\u001b[32m--> \u001b[39m\u001b[32m250\u001b[39m headers = \u001b[38;5;28;43mself\u001b[39;49m\u001b[43m.\u001b[49m\u001b[43m_auth_headers\u001b[49m\u001b[43m(\u001b[49m\u001b[43m)\u001b[49m\n\u001b[32m    252\u001b[39m \u001b[38;5;28;01mif\u001b[39;00m \u001b[33m\"\u001b[39m\u001b[33mcontent_type\u001b[39m\u001b[33m\"\u001b[39m \u001b[38;5;129;01min\u001b[39;00m args[\u001b[33m\"\u001b[39m\u001b[33mparams\u001b[39m\u001b[33m\"\u001b[39m]:\n\u001b[32m    253\u001b[39m     headers[\u001b[33m\"\u001b[39m\u001b[33mContent-Type\u001b[39m\u001b[33m\"\u001b[39m] = args[\u001b[33m\"\u001b[39m\u001b[33mparams\u001b[39m\u001b[33m\"\u001b[39m][\u001b[33m\"\u001b[39m\u001b[33mcontent_type\u001b[39m\u001b[33m\"\u001b[39m]\n",
      "\u001b[36mFile \u001b[39m\u001b[32m~/.pyenv/versions/3.12.2/envs/Hackaton/lib/python3.12/site-packages/spotipy/client.py:241\u001b[39m, in \u001b[36mSpotify._auth_headers\u001b[39m\u001b[34m(self)\u001b[39m\n\u001b[32m    239\u001b[39m     \u001b[38;5;28;01mreturn\u001b[39;00m {}\n\u001b[32m    240\u001b[39m \u001b[38;5;28;01mtry\u001b[39;00m:\n\u001b[32m--> \u001b[39m\u001b[32m241\u001b[39m     token = \u001b[38;5;28;43mself\u001b[39;49m\u001b[43m.\u001b[49m\u001b[43mauth_manager\u001b[49m\u001b[43m.\u001b[49m\u001b[43mget_access_token\u001b[49m\u001b[43m(\u001b[49m\u001b[43mas_dict\u001b[49m\u001b[43m=\u001b[49m\u001b[38;5;28;43;01mFalse\u001b[39;49;00m\u001b[43m)\u001b[49m\n\u001b[32m    242\u001b[39m \u001b[38;5;28;01mexcept\u001b[39;00m \u001b[38;5;167;01mTypeError\u001b[39;00m:\n\u001b[32m    243\u001b[39m     token = \u001b[38;5;28mself\u001b[39m.auth_manager.get_access_token()\n",
      "\u001b[36mFile \u001b[39m\u001b[32m~/.pyenv/versions/3.12.2/envs/Hackaton/lib/python3.12/site-packages/spotipy/oauth2.py:511\u001b[39m, in \u001b[36mSpotifyOAuth.get_access_token\u001b[39m\u001b[34m(self, code, as_dict, check_cache)\u001b[39m\n\u001b[32m    504\u001b[39m             token_info = \u001b[38;5;28mself\u001b[39m.refresh_access_token(\n\u001b[32m    505\u001b[39m                 token_info[\u001b[33m\"\u001b[39m\u001b[33mrefresh_token\u001b[39m\u001b[33m\"\u001b[39m]\n\u001b[32m    506\u001b[39m             )\n\u001b[32m    507\u001b[39m         \u001b[38;5;28;01mreturn\u001b[39;00m token_info \u001b[38;5;28;01mif\u001b[39;00m as_dict \u001b[38;5;28;01melse\u001b[39;00m token_info[\u001b[33m\"\u001b[39m\u001b[33maccess_token\u001b[39m\u001b[33m\"\u001b[39m]\n\u001b[32m    509\u001b[39m payload = {\n\u001b[32m    510\u001b[39m     \u001b[33m\"\u001b[39m\u001b[33mredirect_uri\u001b[39m\u001b[33m\"\u001b[39m: \u001b[38;5;28mself\u001b[39m.redirect_uri,\n\u001b[32m--> \u001b[39m\u001b[32m511\u001b[39m     \u001b[33m\"\u001b[39m\u001b[33mcode\u001b[39m\u001b[33m\"\u001b[39m: code \u001b[38;5;129;01mor\u001b[39;00m \u001b[38;5;28;43mself\u001b[39;49m\u001b[43m.\u001b[49m\u001b[43mget_auth_response\u001b[49m\u001b[43m(\u001b[49m\u001b[43m)\u001b[49m,\n\u001b[32m    512\u001b[39m     \u001b[33m\"\u001b[39m\u001b[33mgrant_type\u001b[39m\u001b[33m\"\u001b[39m: \u001b[33m\"\u001b[39m\u001b[33mauthorization_code\u001b[39m\u001b[33m\"\u001b[39m,\n\u001b[32m    513\u001b[39m }\n\u001b[32m    514\u001b[39m \u001b[38;5;28;01mif\u001b[39;00m \u001b[38;5;28mself\u001b[39m.scope:\n\u001b[32m    515\u001b[39m     payload[\u001b[33m\"\u001b[39m\u001b[33mscope\u001b[39m\u001b[33m\"\u001b[39m] = \u001b[38;5;28mself\u001b[39m.scope\n",
      "\u001b[36mFile \u001b[39m\u001b[32m~/.pyenv/versions/3.12.2/envs/Hackaton/lib/python3.12/site-packages/spotipy/oauth2.py:467\u001b[39m, in \u001b[36mSpotifyOAuth.get_auth_response\u001b[39m\u001b[34m(self, open_browser)\u001b[39m\n\u001b[32m    460\u001b[39m \u001b[38;5;28;01mif\u001b[39;00m (\n\u001b[32m    461\u001b[39m         open_browser\n\u001b[32m    462\u001b[39m         \u001b[38;5;129;01mand\u001b[39;00m redirect_host \u001b[38;5;129;01min\u001b[39;00m (\u001b[33m\"\u001b[39m\u001b[33m127.0.0.1\u001b[39m\u001b[33m\"\u001b[39m, \u001b[33m\"\u001b[39m\u001b[33mlocalhost\u001b[39m\u001b[33m\"\u001b[39m)\n\u001b[32m    463\u001b[39m         \u001b[38;5;129;01mand\u001b[39;00m redirect_info.scheme == \u001b[33m\"\u001b[39m\u001b[33mhttp\u001b[39m\u001b[33m\"\u001b[39m\n\u001b[32m    464\u001b[39m ):\n\u001b[32m    465\u001b[39m     \u001b[38;5;66;03m# Only start a local http server if a port is specified\u001b[39;00m\n\u001b[32m    466\u001b[39m     \u001b[38;5;28;01mif\u001b[39;00m redirect_port:\n\u001b[32m--> \u001b[39m\u001b[32m467\u001b[39m         \u001b[38;5;28;01mreturn\u001b[39;00m \u001b[38;5;28;43mself\u001b[39;49m\u001b[43m.\u001b[49m\u001b[43m_get_auth_response_local_server\u001b[49m\u001b[43m(\u001b[49m\u001b[43mredirect_port\u001b[49m\u001b[43m)\u001b[49m\n\u001b[32m    468\u001b[39m     \u001b[38;5;28;01melse\u001b[39;00m:\n\u001b[32m    469\u001b[39m         logger.warning(\u001b[33mf\u001b[39m\u001b[33m'\u001b[39m\u001b[33mUsing `\u001b[39m\u001b[38;5;132;01m{\u001b[39;00mredirect_host\u001b[38;5;132;01m}\u001b[39;00m\u001b[33m` as redirect URI without a port. \u001b[39m\u001b[33m'\u001b[39m\n\u001b[32m    470\u001b[39m                        \u001b[33mf\u001b[39m\u001b[33m'\u001b[39m\u001b[33mSpecify a port (e.g. `\u001b[39m\u001b[38;5;132;01m{\u001b[39;00mredirect_host\u001b[38;5;132;01m}\u001b[39;00m\u001b[33m:8080`) to allow \u001b[39m\u001b[33m'\u001b[39m\n\u001b[32m    471\u001b[39m                        \u001b[33m'\u001b[39m\u001b[33mautomatic retrieval of authentication code \u001b[39m\u001b[33m'\u001b[39m\n\u001b[32m    472\u001b[39m                        \u001b[33m'\u001b[39m\u001b[33minstead of having to copy and paste \u001b[39m\u001b[33m'\u001b[39m\n\u001b[32m    473\u001b[39m                        \u001b[33m'\u001b[39m\u001b[33mthe URL your browser is redirected to.\u001b[39m\u001b[33m'\u001b[39m)\n",
      "\u001b[36mFile \u001b[39m\u001b[32m~/.pyenv/versions/3.12.2/envs/Hackaton/lib/python3.12/site-packages/spotipy/oauth2.py:423\u001b[39m, in \u001b[36mSpotifyOAuth._get_auth_response_local_server\u001b[39m\u001b[34m(self, redirect_port)\u001b[39m\n\u001b[32m    422\u001b[39m \u001b[38;5;28;01mdef\u001b[39;00m\u001b[38;5;250m \u001b[39m\u001b[34m_get_auth_response_local_server\u001b[39m(\u001b[38;5;28mself\u001b[39m, redirect_port):\n\u001b[32m--> \u001b[39m\u001b[32m423\u001b[39m     server = \u001b[43mstart_local_http_server\u001b[49m\u001b[43m(\u001b[49m\u001b[43mredirect_port\u001b[49m\u001b[43m)\u001b[49m\n\u001b[32m    424\u001b[39m     \u001b[38;5;28mself\u001b[39m._open_auth_url()\n\u001b[32m    425\u001b[39m     server.handle_request()\n",
      "\u001b[36mFile \u001b[39m\u001b[32m~/.pyenv/versions/3.12.2/envs/Hackaton/lib/python3.12/site-packages/spotipy/oauth2.py:1273\u001b[39m, in \u001b[36mstart_local_http_server\u001b[39m\u001b[34m(port, handler)\u001b[39m\n\u001b[32m   1272\u001b[39m \u001b[38;5;28;01mdef\u001b[39;00m\u001b[38;5;250m \u001b[39m\u001b[34mstart_local_http_server\u001b[39m(port, handler=RequestHandler):\n\u001b[32m-> \u001b[39m\u001b[32m1273\u001b[39m     server = \u001b[43mHTTPServer\u001b[49m\u001b[43m(\u001b[49m\u001b[43m(\u001b[49m\u001b[33;43m\"\u001b[39;49m\u001b[33;43m127.0.0.1\u001b[39;49m\u001b[33;43m\"\u001b[39;49m\u001b[43m,\u001b[49m\u001b[43m \u001b[49m\u001b[43mport\u001b[49m\u001b[43m)\u001b[49m\u001b[43m,\u001b[49m\u001b[43m \u001b[49m\u001b[43mhandler\u001b[49m\u001b[43m)\u001b[49m\n\u001b[32m   1274\u001b[39m     server.allow_reuse_address = \u001b[38;5;28;01mTrue\u001b[39;00m\n\u001b[32m   1275\u001b[39m     server.auth_code = \u001b[38;5;28;01mNone\u001b[39;00m\n",
      "\u001b[36mFile \u001b[39m\u001b[32m~/.pyenv/versions/3.12.2/lib/python3.12/socketserver.py:457\u001b[39m, in \u001b[36mTCPServer.__init__\u001b[39m\u001b[34m(self, server_address, RequestHandlerClass, bind_and_activate)\u001b[39m\n\u001b[32m    455\u001b[39m \u001b[38;5;28;01mif\u001b[39;00m bind_and_activate:\n\u001b[32m    456\u001b[39m     \u001b[38;5;28;01mtry\u001b[39;00m:\n\u001b[32m--> \u001b[39m\u001b[32m457\u001b[39m         \u001b[38;5;28;43mself\u001b[39;49m\u001b[43m.\u001b[49m\u001b[43mserver_bind\u001b[49m\u001b[43m(\u001b[49m\u001b[43m)\u001b[49m\n\u001b[32m    458\u001b[39m         \u001b[38;5;28mself\u001b[39m.server_activate()\n\u001b[32m    459\u001b[39m     \u001b[38;5;28;01mexcept\u001b[39;00m:\n",
      "\u001b[36mFile \u001b[39m\u001b[32m~/.pyenv/versions/3.12.2/lib/python3.12/http/server.py:136\u001b[39m, in \u001b[36mHTTPServer.server_bind\u001b[39m\u001b[34m(self)\u001b[39m\n\u001b[32m    134\u001b[39m \u001b[38;5;28;01mdef\u001b[39;00m\u001b[38;5;250m \u001b[39m\u001b[34mserver_bind\u001b[39m(\u001b[38;5;28mself\u001b[39m):\n\u001b[32m    135\u001b[39m \u001b[38;5;250m    \u001b[39m\u001b[33;03m\"\"\"Override server_bind to store the server name.\"\"\"\u001b[39;00m\n\u001b[32m--> \u001b[39m\u001b[32m136\u001b[39m     \u001b[43msocketserver\u001b[49m\u001b[43m.\u001b[49m\u001b[43mTCPServer\u001b[49m\u001b[43m.\u001b[49m\u001b[43mserver_bind\u001b[49m\u001b[43m(\u001b[49m\u001b[38;5;28;43mself\u001b[39;49m\u001b[43m)\u001b[49m\n\u001b[32m    137\u001b[39m     host, port = \u001b[38;5;28mself\u001b[39m.server_address[:\u001b[32m2\u001b[39m]\n\u001b[32m    138\u001b[39m     \u001b[38;5;28mself\u001b[39m.server_name = socket.getfqdn(host)\n",
      "\u001b[36mFile \u001b[39m\u001b[32m~/.pyenv/versions/3.12.2/lib/python3.12/socketserver.py:473\u001b[39m, in \u001b[36mTCPServer.server_bind\u001b[39m\u001b[34m(self)\u001b[39m\n\u001b[32m    471\u001b[39m \u001b[38;5;28;01mif\u001b[39;00m \u001b[38;5;28mself\u001b[39m.allow_reuse_port \u001b[38;5;129;01mand\u001b[39;00m \u001b[38;5;28mhasattr\u001b[39m(socket, \u001b[33m\"\u001b[39m\u001b[33mSO_REUSEPORT\u001b[39m\u001b[33m\"\u001b[39m):\n\u001b[32m    472\u001b[39m     \u001b[38;5;28mself\u001b[39m.socket.setsockopt(socket.SOL_SOCKET, socket.SO_REUSEPORT, \u001b[32m1\u001b[39m)\n\u001b[32m--> \u001b[39m\u001b[32m473\u001b[39m \u001b[38;5;28;43mself\u001b[39;49m\u001b[43m.\u001b[49m\u001b[43msocket\u001b[49m\u001b[43m.\u001b[49m\u001b[43mbind\u001b[49m\u001b[43m(\u001b[49m\u001b[38;5;28;43mself\u001b[39;49m\u001b[43m.\u001b[49m\u001b[43mserver_address\u001b[49m\u001b[43m)\u001b[49m\n\u001b[32m    474\u001b[39m \u001b[38;5;28mself\u001b[39m.server_address = \u001b[38;5;28mself\u001b[39m.socket.getsockname()\n",
      "\u001b[31mOSError\u001b[39m: [Errno 48] Address already in use"
     ]
    }
   ],
   "source": [
    "import spotipy\n",
    "from spotipy.oauth2 import SpotifyOAuth\n",
    "\n",
    "# Use the variables from the previous cell directly\n",
    "sp = spotipy.Spotify(auth_manager=SpotifyOAuth(\n",
    "    client_id=SPOTIPY_CLIENT_ID,\n",
    "    client_secret=SPOTIPY_CLIENT_SECRET,\n",
    "    redirect_uri=SPOTIPY_REDIRECT_URI,\n",
    "    scope=\"user-read-recently-played user-top-read user-library-read\"\n",
    "))\n",
    "\n",
    "# Test the connection\n",
    "user = sp.current_user()\n",
    "print(f\"Connected as: {user['display_name']}\")"
   ]
  }
 ],
 "metadata": {
  "kernelspec": {
   "display_name": "Hackaton",
   "language": "python",
   "name": "python3"
  },
  "language_info": {
   "codemirror_mode": {
    "name": "ipython",
    "version": 3
   },
   "file_extension": ".py",
   "mimetype": "text/x-python",
   "name": "python",
   "nbconvert_exporter": "python",
   "pygments_lexer": "ipython3",
   "version": "3.12.2"
  }
 },
 "nbformat": 4,
 "nbformat_minor": 5
}
