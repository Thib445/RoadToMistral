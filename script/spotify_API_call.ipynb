{
 "cells": [
  {
   "cell_type": "code",
   "execution_count": null,
   "id": "b2c938ac",
   "metadata": {},
   "outputs": [
    {
     "name": "stderr",
     "output_type": "stream",
     "text": [
      "kill: illegal process id: \n"
     ]
    }
   ],
   "source": [
    "import subprocess\n",
    "# Clean port 8000 before starting\n",
    "subprocess.run(['lsof', '-ti', ':8000'], capture_output=True) and subprocess.run(['kill', '-9', subprocess.run(['lsof', '-ti', ':8001'], capture_output=True, text=True).stdout.strip().split('\\n')[0]], check=False)\n",
    "\n",
    "# spotify credentials\n",
    "SPOTIPY_CLIENT_ID=\"12ae4c08efb74ce3a391b032514adae5\"\n",
    "SPOTIPY_CLIENT_SECRET=\"0cca7fdc50734671a395ba13080a7380\"\n",
    "SPOTIPY_REDIRECT_URI=\"https://127.0.0.1:8000/\"\n"
   ]
  },
  {
   "cell_type": "code",
   "execution_count": null,
   "id": "cb80005c",
   "metadata": {},
   "outputs": [],
   "source": [
    "import spotipy\n",
    "from spotipy.oauth2 import SpotifyOAuth\n",
    "\n",
    "scopes = (\n",
    "    \"user-library-read \"\n",
    "    \"user-library-modify \"\n",
    "    \"user-read-recently-played \"\n",
    "    \"user-read-playback-state \"\n",
    "    \"user-modify-playback-state \"\n",
    "    \"user-read-currently-playing \"\n",
    "    \"playlist-read-private \"\n",
    "    \"playlist-read-collaborative \"\n",
    "    \"playlist-modify-public \"\n",
    "    \"playlist-modify-private \"\n",
    "    \"user-follow-read \"\n",
    "    \"user-follow-modify \"\n",
    "    \"user-top-read \"\n",
    "    \"ugc-image-upload\"\n",
    ")\n",
    "\n",
    "# Use the variables from Cell 0 directly\n",
    "sp = spotipy.Spotify(auth_manager=SpotifyOAuth(\n",
    "    client_id=SPOTIPY_CLIENT_ID,\n",
    "    client_secret=SPOTIPY_CLIENT_SECRET,\n",
    "    redirect_uri=SPOTIPY_REDIRECT_URI,\n",
    "    scope=scopes\n",
    "))\n"
   ]
  },
  {
   "cell_type": "code",
   "execution_count": 21,
   "id": "e7cde4e2",
   "metadata": {},
   "outputs": [
    {
     "data": {
      "text/plain": [
       "{'href': 'https://api.spotify.com/v1/users/31zcwaqufsf2p66a2c6u4zjxrnpq/playlists?offset=0&limit=50',\n",
       " 'limit': 50,\n",
       " 'next': None,\n",
       " 'offset': 0,\n",
       " 'previous': None,\n",
       " 'total': 0,\n",
       " 'items': []}"
      ]
     },
     "execution_count": 21,
     "metadata": {},
     "output_type": "execute_result"
    }
   ],
   "source": [
    "sp.current_user_playlists()"
   ]
  },
  {
   "cell_type": "code",
   "execution_count": 22,
   "id": "e6720303",
   "metadata": {},
   "outputs": [
    {
     "data": {
      "text/plain": [
       "{'display_name': 'Jazmane',\n",
       " 'external_urls': {'spotify': 'https://open.spotify.com/user/31zcwaqufsf2p66a2c6u4zjxrnpq'},\n",
       " 'followers': {'href': None, 'total': 0},\n",
       " 'href': 'https://api.spotify.com/v1/users/31zcwaqufsf2p66a2c6u4zjxrnpq',\n",
       " 'id': '31zcwaqufsf2p66a2c6u4zjxrnpq',\n",
       " 'images': [],\n",
       " 'type': 'user',\n",
       " 'uri': 'spotify:user:31zcwaqufsf2p66a2c6u4zjxrnpq'}"
      ]
     },
     "execution_count": 22,
     "metadata": {},
     "output_type": "execute_result"
    }
   ],
   "source": [
    "sp.current_user()"
   ]
  }
 ],
 "metadata": {
  "kernelspec": {
   "display_name": "Hackaton",
   "language": "python",
   "name": "python3"
  },
  "language_info": {
   "codemirror_mode": {
    "name": "ipython",
    "version": 3
   },
   "file_extension": ".py",
   "mimetype": "text/x-python",
   "name": "python",
   "nbconvert_exporter": "python",
   "pygments_lexer": "ipython3",
   "version": "3.12.2"
  }
 },
 "nbformat": 4,
 "nbformat_minor": 5
}
