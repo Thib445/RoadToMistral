{
 "cells": [
  {
   "cell_type": "code",
   "execution_count": null,
   "id": "f99c9430",
   "metadata": {},
   "outputs": [
    {
     "name": "stderr",
     "output_type": "stream",
     "text": [
      "kill: illegal process id: \n"
     ]
    },
    {
     "name": "stderr",
     "output_type": "stream",
     "text": [
      "\n",
      "\n",
      "\u001b[2m╭────────────────────────────────────────────────────────────────────────────╮\u001b[0m\n",
      "\u001b[2m│\u001b[0m                                                                            \u001b[2m│\u001b[0m\n",
      "\u001b[2m│\u001b[0m    \u001b[1;32m    _ __ ___  _____           __  __  _____________    ____    ____ \u001b[0m    \u001b[2m│\u001b[0m\n",
      "\u001b[2m│\u001b[0m    \u001b[1;32m   _ __ ___ .'____/___ ______/ /_/  |/  / ____/ __ \\  |___ \\  / __ \\\u001b[0m    \u001b[2m│\u001b[0m\n",
      "\u001b[2m│\u001b[0m    \u001b[1;32m  _ __ ___ / /_  / __ `/ ___/ __/ /|_/ / /   / /_/ /  ___/ / / / / /\u001b[0m    \u001b[2m│\u001b[0m\n",
      "\u001b[2m│\u001b[0m    \u001b[1;32m _ __ ___ / __/ / /_/ (__  ) /_/ /  / / /___/ ____/  /  __/_/ /_/ / \u001b[0m    \u001b[2m│\u001b[0m\n",
      "\u001b[2m│\u001b[0m    \u001b[1;32m_ __ ___ /_/    \\____/____/\\__/_/  /_/\\____/_/      /_____(*)____/  \u001b[0m    \u001b[2m│\u001b[0m\n",
      "\u001b[2m│\u001b[0m                                                                            \u001b[2m│\u001b[0m\n",
      "\u001b[2m│\u001b[0m                                                                            \u001b[2m│\u001b[0m\n",
      "\u001b[2m│\u001b[0m                                \u001b[1;34mFastMCP  2.0\u001b[0m                                \u001b[2m│\u001b[0m\n",
      "\u001b[2m│\u001b[0m                                                                            \u001b[2m│\u001b[0m\n",
      "\u001b[2m│\u001b[0m                                                                            \u001b[2m│\u001b[0m\n",
      "\u001b[2m│\u001b[0m               \u001b[1m🖥️ \u001b[0m\u001b[1m \u001b[0m\u001b[36mServer name:    \u001b[0m\u001b[36m \u001b[0m\u001b[2mEloan Server             \u001b[0m                \u001b[2m│\u001b[0m\n",
      "\u001b[2m│\u001b[0m               \u001b[1m📦\u001b[0m\u001b[1m \u001b[0m\u001b[36mTransport:      \u001b[0m\u001b[36m \u001b[0m\u001b[2mStreamable-HTTP          \u001b[0m                \u001b[2m│\u001b[0m\n",
      "\u001b[2m│\u001b[0m               \u001b[1m🔗\u001b[0m\u001b[1m \u001b[0m\u001b[36mServer URL:     \u001b[0m\u001b[36m \u001b[0m\u001b[2mhttp://127.0.0.1:8001/mcp\u001b[0m                \u001b[2m│\u001b[0m\n",
      "\u001b[2m│\u001b[0m               \u001b[1m  \u001b[0m\u001b[1m \u001b[0m\u001b[36m                \u001b[0m\u001b[36m \u001b[0m\u001b[2m                         \u001b[0m                \u001b[2m│\u001b[0m\n",
      "\u001b[2m│\u001b[0m               \u001b[1m🏎️ \u001b[0m\u001b[1m \u001b[0m\u001b[36mFastMCP version:\u001b[0m\u001b[36m \u001b[0m\u001b[2;37m2.12.3                   \u001b[0m                \u001b[2m│\u001b[0m\n",
      "\u001b[2m│\u001b[0m               \u001b[1m🤝\u001b[0m\u001b[1m \u001b[0m\u001b[36mMCP SDK version:\u001b[0m\u001b[36m \u001b[0m\u001b[2;37m1.14.0                   \u001b[0m                \u001b[2m│\u001b[0m\n",
      "\u001b[2m│\u001b[0m               \u001b[1m  \u001b[0m\u001b[1m \u001b[0m\u001b[36m                \u001b[0m\u001b[36m \u001b[0m\u001b[2m                         \u001b[0m                \u001b[2m│\u001b[0m\n",
      "\u001b[2m│\u001b[0m               \u001b[1m📚\u001b[0m\u001b[1m \u001b[0m\u001b[36mDocs:           \u001b[0m\u001b[36m \u001b[0m\u001b[2mhttps://gofastmcp.com    \u001b[0m                \u001b[2m│\u001b[0m\n",
      "\u001b[2m│\u001b[0m               \u001b[1m🚀\u001b[0m\u001b[1m \u001b[0m\u001b[36mDeploy:         \u001b[0m\u001b[36m \u001b[0m\u001b[2mhttps://fastmcp.cloud    \u001b[0m                \u001b[2m│\u001b[0m\n",
      "\u001b[2m│\u001b[0m                                                                            \u001b[2m│\u001b[0m\n",
      "\u001b[2m╰────────────────────────────────────────────────────────────────────────────╯\u001b[0m\n",
      "\n",
      "\n"
     ]
    },
    {
     "data": {
      "text/html": [
       "<pre style=\"white-space:pre;overflow-x:auto;line-height:normal;font-family:Menlo,'DejaVu Sans Mono',consolas,'Courier New',monospace\"><span style=\"color: #7fbfbf; text-decoration-color: #7fbfbf\">[09/13/25 15:50:35] </span><span style=\"color: #000080; text-decoration-color: #000080\">INFO    </span> Starting MCP server <span style=\"color: #008000; text-decoration-color: #008000\">'Eloan Server'</span> with transport <span style=\"color: #008000; text-decoration-color: #008000\">'http'</span> on             <a href=\"file:///Users/elo/.pyenv/versions/3.12.2/envs/Hackaton/lib/python3.12/site-packages/fastmcp/server/server.py\" target=\"_blank\"><span style=\"color: #7f7f7f; text-decoration-color: #7f7f7f\">server.py</span></a><span style=\"color: #7f7f7f; text-decoration-color: #7f7f7f\">:</span><a href=\"file:///Users/elo/.pyenv/versions/3.12.2/envs/Hackaton/lib/python3.12/site-packages/fastmcp/server/server.py#1572\" target=\"_blank\"><span style=\"color: #7f7f7f; text-decoration-color: #7f7f7f\">1572</span></a>\n",
       "<span style=\"color: #7fbfbf; text-decoration-color: #7fbfbf\">                    </span>         <span style=\"color: #0000ff; text-decoration-color: #0000ff; text-decoration: underline\">http://127.0.0.1:8001/mcp</span>                                               <span style=\"color: #7f7f7f; text-decoration-color: #7f7f7f\">              </span>\n",
       "</pre>\n"
      ],
      "text/plain": [
       "\u001b[2;36m[09/13/25 15:50:35]\u001b[0m\u001b[2;36m \u001b[0m\u001b[34mINFO    \u001b[0m Starting MCP server \u001b[32m'Eloan Server'\u001b[0m with transport \u001b[32m'http'\u001b[0m on             \u001b]8;id=374563;file:///Users/elo/.pyenv/versions/3.12.2/envs/Hackaton/lib/python3.12/site-packages/fastmcp/server/server.py\u001b\\\u001b[2mserver.py\u001b[0m\u001b]8;;\u001b\\\u001b[2m:\u001b[0m\u001b]8;id=163342;file:///Users/elo/.pyenv/versions/3.12.2/envs/Hackaton/lib/python3.12/site-packages/fastmcp/server/server.py#1572\u001b\\\u001b[2m1572\u001b[0m\u001b]8;;\u001b\\\n",
       "\u001b[2;36m                    \u001b[0m         \u001b[4;94mhttp://127.0.0.1:8001/mcp\u001b[0m                                               \u001b[2m              \u001b[0m\n"
      ]
     },
     "metadata": {},
     "output_type": "display_data"
    },
    {
     "name": "stderr",
     "output_type": "stream",
     "text": [
      "INFO:     Started server process [48976]\n",
      "INFO:     Waiting for application startup.\n",
      "INFO:     Application startup complete.\n",
      "INFO:     Uvicorn running on http://127.0.0.1:8001 (Press CTRL+C to quit)\n"
     ]
    },
    {
     "ename": "",
     "evalue": "",
     "output_type": "error",
     "traceback": [
      "\u001b[1;31mThe Kernel crashed while executing code in the current cell or a previous cell. \n",
      "\u001b[1;31mPlease review the code in the cell(s) to identify a possible cause of the failure. \n",
      "\u001b[1;31mClick <a href='https://aka.ms/vscodeJupyterKernelCrash'>here</a> for more info. \n",
      "\u001b[1;31mView Jupyter <a href='command:jupyter.viewOutput'>log</a> for further details."
     ]
    }
   ],
   "source": [
    "import subprocess\n",
    "from fastmcp import FastMCP\n",
    "\n",
    "# Clean port 8001 before starting\n",
    "subprocess.run(['lsof', '-ti', ':8001'], capture_output=True) and subprocess.run(['kill', '-9', subprocess.run(['lsof', '-ti', ':8001'], capture_output=True, text=True).stdout.strip().split('\\n')[0]], check=False)\n",
    "mcp = FastMCP(\"Eloan Server\")\n",
    "\n",
    "def start_server():\n",
    "    mcp.run(transport=\"http\", port=8001)\n",
    "    \n",
    "import threading\n",
    "thread = threading.Thread(target=start_server, daemon=True)\n",
    "thread.start()"
   ]
  },
  {
   "cell_type": "code",
   "execution_count": null,
   "id": "d5ea7416",
   "metadata": {},
   "outputs": [
    {
     "name": "stdout",
     "output_type": "stream",
     "text": [
      "Ngrok URL: NgrokTunnel: \"https://964bb3af503c.ngrok-free.app\" -> \"http://localhost:8001\"\n"
     ]
    },
    {
     "ename": "",
     "evalue": "",
     "output_type": "error",
     "traceback": [
      "\u001b[1;31mThe Kernel crashed while executing code in the current cell or a previous cell. \n",
      "\u001b[1;31mPlease review the code in the cell(s) to identify a possible cause of the failure. \n",
      "\u001b[1;31mClick <a href='https://aka.ms/vscodeJupyterKernelCrash'>here</a> for more info. \n",
      "\u001b[1;31mView Jupyter <a href='command:jupyter.viewOutput'>log</a> for further details."
     ]
    }
   ],
   "source": [
    "from pyngrok import ngrok\n",
    "\n",
    "# Set your auth token\n",
    "ngrok.set_auth_token(\"32duqPnT5eNRSbVwjOu0f1pUaKP_jswV2QbAoaUEfGW4R7n1\")\n",
    "\n",
    "# Open an HTTP tunnel to your local MCP server (port 8001)\n",
    "public_url = ngrok.connect(8001)\n",
    "print(\"Ngrok URL:\", public_url)"
   ]
  }
 ],
 "metadata": {
  "kernelspec": {
   "display_name": "Hackaton",
   "language": "python",
   "name": "python3"
  },
  "language_info": {
   "codemirror_mode": {
    "name": "ipython",
    "version": 3
   },
   "file_extension": ".py",
   "mimetype": "text/x-python",
   "name": "python",
   "nbconvert_exporter": "python",
   "pygments_lexer": "ipython3",
   "version": "3.12.2"
  }
 },
 "nbformat": 4,
 "nbformat_minor": 5
}
